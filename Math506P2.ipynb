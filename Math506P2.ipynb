{
 "cells": [
  {
   "cell_type": "code",
   "execution_count": 1,
   "metadata": {},
   "outputs": [],
   "source": [
    "# input to the app : \n",
    "# stock name (a.k.a ticker for instance AAPL for Apple) symbol in out case, \n",
    "# the type of the price (Open, Close, High, Low, Adj Close), \n",
    "# the dates \n",
    "# output = price is requested and sketch it like we did in the homework. The type of the chart(candlestick, line, etc..) does not matter. "
   ]
  },
  {
   "cell_type": "code",
   "execution_count": 2,
   "metadata": {},
   "outputs": [],
   "source": [
    "import seaborn as sns\n",
    "import matplotlib.pyplot as plt\n",
    "import pandas as pd\n",
    "from datetime import datetime\n",
    "#import unirest\n",
    "import requests\n",
    "from matplotlib import rcParams\n",
    "import pandas as pd\n",
    "import numpy as np\n",
    "%matplotlib inline\n",
    "import matplotlib\n",
    "import seaborn as sns\n",
    "sns.set()\n",
    "import matplotlib.pyplot as plt\n",
    "import json\n",
    "import requests\n",
    "import matplotlib.dates as mdates\n",
    "from flask import Flask, request\n",
    "from flask import Flask, render_template\n",
    "from IPython.display import display, HTML, IFrame\n",
    "from plotly.offline import plot\n",
    "from plotly.graph_objs import Scatter\n",
    "from flask import Markup\n",
    "import plotly.graph_objects as go"
   ]
  },
  {
   "cell_type": "code",
   "execution_count": null,
   "metadata": {},
   "outputs": [],
   "source": []
  },
  {
   "cell_type": "code",
   "execution_count": 3,
   "metadata": {},
   "outputs": [],
   "source": [
    "def stock(sym, start, end, price):\n",
    "    name = sym\n",
    "    startdate = datetime.strptime(start, '%Y-%m-%d')\n",
    "    enddate = datetime.strptime(end, '%Y-%m-%d')\n",
    "    pricetype = price\n",
    "    url = 'https://yahoo-finance15.p.rapidapi.com/api/yahoo/hi/history/'+ str(name) + '/1d'\n",
    "    \n",
    "    headers = {\n",
    "    'x-rapidapi-key': \"673e951a13mshe9df3409ae55508p1f23b5jsn64761284c0ab\",\n",
    "    'x-rapidapi-host': \"yahoo-finance15.p.rapidapi.com\"\n",
    "    }\n",
    "\n",
    "    response = requests.request(\"GET\", url, headers=headers)\n",
    "\n",
    "    print(response)\n",
    "    \n",
    "    values = response.json()\n",
    "    \n",
    "    values = values['items'].values()\n",
    "    \n",
    "    values= list(values)\n",
    "    date  = []\n",
    "    openp  = []\n",
    "    high = []\n",
    "    low  = []\n",
    "    adjclose = []\n",
    "    for i in values:\n",
    "        date.append(i['date']) \n",
    "        openp.append(i['open'])\n",
    "        high.append(i['high'])\n",
    "        low.append(i['low'])\n",
    "        adjclose.append(i['adjclose'])\n",
    "#df = pd.DataFrame([data], columns = ['Name', 'Age'])\n",
    "    df = pd.DataFrame()\n",
    "    df['Date'] = date\n",
    "    df['Open'] = openp\n",
    "    df['High'] = high\n",
    "    df['Low'] = low\n",
    "    df['Adjclose'] = adjclose\n",
    "    #converting the dataset to time series\n",
    "    df['Date'] = pd.to_datetime(df['Date'])\n",
    "    df.set_index('Date', inplace = True , drop = False)\n",
    "    \n",
    "    #Part5 Find the average Low price for all four stocks \n",
    "    #between the dates 03/15/2020 (included) and 06/15/2020 (excluded).\n",
    "    # to extract specific dates range\n",
    "    print(startdate.year,startdate.month,startdate.day)\n",
    "    print(enddate.year,enddate.month,enddate.day)\n",
    "    df = df[(df['Date']>=datetime(startdate.year,startdate.month,startdate.day))]\n",
    "    df =  df[(df['Date']<datetime(enddate.year,enddate.month,enddate.day))]\n",
    " \n",
    "    return list(df[\"Date\"]) , list(df[pricetype])"
   ]
  },
  {
   "cell_type": "code",
   "execution_count": 4,
   "metadata": {},
   "outputs": [
    {
     "name": "stdout",
     "output_type": "stream",
     "text": [
      "<Response [200]>\n",
      "2015 10 10\n",
      "2015 10 15\n"
     ]
    },
    {
     "data": {
      "text/plain": [
       "([Timestamp('2015-10-13 00:00:00'),\n",
       "  Timestamp('2015-10-14 00:00:00'),\n",
       "  Timestamp('2015-10-11 00:00:00'),\n",
       "  Timestamp('2015-10-12 00:00:00')],\n",
       " [27.67, 27.39, 29.01, 28.88])"
      ]
     },
     "execution_count": 4,
     "metadata": {},
     "output_type": "execute_result"
    }
   ],
   "source": [
    "stock('AAPL', '2015-10-10', '2015-10-15', 'Low' ) "
   ]
  },
  {
   "cell_type": "code",
   "execution_count": null,
   "metadata": {},
   "outputs": [],
   "source": []
  },
  {
   "cell_type": "code",
   "execution_count": null,
   "metadata": {},
   "outputs": [],
   "source": []
  },
  {
   "cell_type": "code",
   "execution_count": null,
   "metadata": {},
   "outputs": [
    {
     "name": "stdout",
     "output_type": "stream",
     "text": [
      " * Serving Flask app \"__main__\" (lazy loading)\n",
      " * Environment: production\n",
      "   WARNING: This is a development server. Do not use it in a production deployment.\n",
      "   Use a production WSGI server instead.\n",
      " * Debug mode: off\n"
     ]
    },
    {
     "name": "stderr",
     "output_type": "stream",
     "text": [
      " * Running on http://127.0.0.1:5000/ (Press CTRL+C to quit)\n",
      "127.0.0.1 - - [16/Dec/2020 14:02:43] \"\u001b[37mGET / HTTP/1.1\u001b[0m\" 200 -\n",
      "127.0.0.1 - - [16/Dec/2020 14:02:43] \"\u001b[33mGET /favicon.ico HTTP/1.1\u001b[0m\" 404 -\n"
     ]
    },
    {
     "name": "stdout",
     "output_type": "stream",
     "text": [
      "request.form.items() <generator object MultiDict.items at 0x0000026847AFB5F0>\n",
      "key: Symbol, value: AAPL\n",
      "['AAPL']\n",
      "request.form.items() <generator object MultiDict.items at 0x0000026847AFB5F0>\n",
      "key: Start Date, value: 2020-10-10\n",
      "['AAPL', '2020-10-10']\n",
      "request.form.items() <generator object MultiDict.items at 0x0000026847AFB5F0>\n",
      "key: End Date, value: 2020-10-15\n",
      "['AAPL', '2020-10-10', '2020-10-15']\n",
      "request.form.items() <generator object MultiDict.items at 0x0000026847AFB4A0>\n",
      "key: Price, value: Low\n",
      "['AAPL', '2020-10-10', '2020-10-15', 'Low']\n",
      "<Response [200]>\n",
      "2020 10 10\n",
      "2020 10 15\n"
     ]
    },
    {
     "name": "stderr",
     "output_type": "stream",
     "text": [
      "127.0.0.1 - - [16/Dec/2020 14:02:55] \"\u001b[37mPOST /post_field HTTP/1.1\u001b[0m\" 200 -\n"
     ]
    }
   ],
   "source": [
    "\n",
    "app = Flask(__name__)\n",
    "para = []\n",
    "\n",
    "@app.route( \"/post_field\" , methods=[\"GET\", \"POST\"])\n",
    "def need_input():\n",
    "    for key, value in request.form.items():\n",
    "        print(\"request.form.items()\",request.form.items())\n",
    "        para.append(value)\n",
    "        print(\"key: {0}, value: {1}\".format(key, value))\n",
    "        print(para) \n",
    "    x1 , y1 = stock(para[0],para[1] ,para[2], para[3] )\n",
    "    #para = []\n",
    "    my_plot_div = plot([Scatter(x = x1, y = y1)], output_type='div') \n",
    "    return render_template('index2.html',\n",
    "                               div_placeholder=Markup(my_plot_div)\n",
    "                              )    \n",
    "     \n",
    "\n",
    "@app.route(\"/\", methods=[\"GET\"])\n",
    "def get_form():\n",
    "    return render_template('index.html')\n",
    "\n",
    "if __name__ == '__main__':\n",
    "    app.run()\n"
   ]
  },
  {
   "cell_type": "code",
   "execution_count": null,
   "metadata": {},
   "outputs": [],
   "source": [
    "from flask import Flask, request\n",
    "from flask import Flask, render_template\n",
    "from IPython.display import display, HTML, IFrame\n",
    "from plotly.offline import plot\n",
    "from plotly.graph_objs import Scatter\n",
    "from flask import Markup\n",
    "app = Flask(__name__)\n",
    "para = []\n",
    "\n",
    "@app.route( \"/post_field\" , methods=[\"GET\", \"POST\"])\n",
    "def need_input():\n",
    "    for key, value in request.form.items():\n",
    "        print(\"request.form.items()\",request.form.items())\n",
    "        para.append(value)\n",
    "        print(\"key: {0}, value: {1}\".format(key, value))\n",
    "        print(para) \n",
    "    #x , y =     \n",
    "    my_plot_div = plot(go.candlestick(), output_type='div')\n",
    "    return render_template('index2.html',\n",
    "                               div_placeholder=Markup(my_plot_div)\n",
    "                              )    \n",
    "    df = stock(para[0])\n",
    "    print(df)\n",
    "    return stock('AAPL','2010-12-20' ,\"2010-12-23\", 'Low' ) #render_template('index2.html')\n",
    "        \n",
    "\n",
    "@app.route(\"/\", methods=[\"GET\"])\n",
    "def get_form():\n",
    "    return render_template('index.html')\n",
    "\n",
    "if __name__ == '__main__':\n",
    "    app.run()\n"
   ]
  },
  {
   "cell_type": "code",
   "execution_count": 8,
   "metadata": {},
   "outputs": [
    {
     "ename": "RuntimeError",
     "evalue": "Working outside of request context.\n\nThis typically means that you attempted to use functionality that needed\nan active HTTP request.  Consult the documentation on testing for\ninformation about how to avoid this problem.",
     "output_type": "error",
     "traceback": [
      "\u001b[1;31m---------------------------------------------------------------------------\u001b[0m",
      "\u001b[1;31mRuntimeError\u001b[0m                              Traceback (most recent call last)",
      "\u001b[1;32m<ipython-input-8-4f6a5098aa75>\u001b[0m in \u001b[0;36m<module>\u001b[1;34m\u001b[0m\n\u001b[1;32m----> 1\u001b[1;33m \u001b[0mrequest\u001b[0m\u001b[1;33m.\u001b[0m\u001b[0mform\u001b[0m\u001b[1;33m.\u001b[0m\u001b[0mitems\u001b[0m\u001b[1;33m(\u001b[0m\u001b[1;33m)\u001b[0m\u001b[1;33m\u001b[0m\u001b[1;33m\u001b[0m\u001b[0m\n\u001b[0m",
      "\u001b[1;32mC:\\ProgramData\\Anaconda3\\lib\\site-packages\\werkzeug\\local.py\u001b[0m in \u001b[0;36m__getattr__\u001b[1;34m(self, name)\u001b[0m\n\u001b[0;32m    345\u001b[0m         \u001b[1;32mif\u001b[0m \u001b[0mname\u001b[0m \u001b[1;33m==\u001b[0m \u001b[1;34m\"__members__\"\u001b[0m\u001b[1;33m:\u001b[0m\u001b[1;33m\u001b[0m\u001b[1;33m\u001b[0m\u001b[0m\n\u001b[0;32m    346\u001b[0m             \u001b[1;32mreturn\u001b[0m \u001b[0mdir\u001b[0m\u001b[1;33m(\u001b[0m\u001b[0mself\u001b[0m\u001b[1;33m.\u001b[0m\u001b[0m_get_current_object\u001b[0m\u001b[1;33m(\u001b[0m\u001b[1;33m)\u001b[0m\u001b[1;33m)\u001b[0m\u001b[1;33m\u001b[0m\u001b[1;33m\u001b[0m\u001b[0m\n\u001b[1;32m--> 347\u001b[1;33m         \u001b[1;32mreturn\u001b[0m \u001b[0mgetattr\u001b[0m\u001b[1;33m(\u001b[0m\u001b[0mself\u001b[0m\u001b[1;33m.\u001b[0m\u001b[0m_get_current_object\u001b[0m\u001b[1;33m(\u001b[0m\u001b[1;33m)\u001b[0m\u001b[1;33m,\u001b[0m \u001b[0mname\u001b[0m\u001b[1;33m)\u001b[0m\u001b[1;33m\u001b[0m\u001b[1;33m\u001b[0m\u001b[0m\n\u001b[0m\u001b[0;32m    348\u001b[0m \u001b[1;33m\u001b[0m\u001b[0m\n\u001b[0;32m    349\u001b[0m     \u001b[1;32mdef\u001b[0m \u001b[0m__setitem__\u001b[0m\u001b[1;33m(\u001b[0m\u001b[0mself\u001b[0m\u001b[1;33m,\u001b[0m \u001b[0mkey\u001b[0m\u001b[1;33m,\u001b[0m \u001b[0mvalue\u001b[0m\u001b[1;33m)\u001b[0m\u001b[1;33m:\u001b[0m\u001b[1;33m\u001b[0m\u001b[1;33m\u001b[0m\u001b[0m\n",
      "\u001b[1;32mC:\\ProgramData\\Anaconda3\\lib\\site-packages\\werkzeug\\local.py\u001b[0m in \u001b[0;36m_get_current_object\u001b[1;34m(self)\u001b[0m\n\u001b[0;32m    304\u001b[0m         \"\"\"\n\u001b[0;32m    305\u001b[0m         \u001b[1;32mif\u001b[0m \u001b[1;32mnot\u001b[0m \u001b[0mhasattr\u001b[0m\u001b[1;33m(\u001b[0m\u001b[0mself\u001b[0m\u001b[1;33m.\u001b[0m\u001b[0m__local\u001b[0m\u001b[1;33m,\u001b[0m \u001b[1;34m\"__release_local__\"\u001b[0m\u001b[1;33m)\u001b[0m\u001b[1;33m:\u001b[0m\u001b[1;33m\u001b[0m\u001b[1;33m\u001b[0m\u001b[0m\n\u001b[1;32m--> 306\u001b[1;33m             \u001b[1;32mreturn\u001b[0m \u001b[0mself\u001b[0m\u001b[1;33m.\u001b[0m\u001b[0m__local\u001b[0m\u001b[1;33m(\u001b[0m\u001b[1;33m)\u001b[0m\u001b[1;33m\u001b[0m\u001b[1;33m\u001b[0m\u001b[0m\n\u001b[0m\u001b[0;32m    307\u001b[0m         \u001b[1;32mtry\u001b[0m\u001b[1;33m:\u001b[0m\u001b[1;33m\u001b[0m\u001b[1;33m\u001b[0m\u001b[0m\n\u001b[0;32m    308\u001b[0m             \u001b[1;32mreturn\u001b[0m \u001b[0mgetattr\u001b[0m\u001b[1;33m(\u001b[0m\u001b[0mself\u001b[0m\u001b[1;33m.\u001b[0m\u001b[0m__local\u001b[0m\u001b[1;33m,\u001b[0m \u001b[0mself\u001b[0m\u001b[1;33m.\u001b[0m\u001b[0m__name__\u001b[0m\u001b[1;33m)\u001b[0m\u001b[1;33m\u001b[0m\u001b[1;33m\u001b[0m\u001b[0m\n",
      "\u001b[1;32mC:\\ProgramData\\Anaconda3\\lib\\site-packages\\flask\\globals.py\u001b[0m in \u001b[0;36m_lookup_req_object\u001b[1;34m(name)\u001b[0m\n\u001b[0;32m     36\u001b[0m     \u001b[0mtop\u001b[0m \u001b[1;33m=\u001b[0m \u001b[0m_request_ctx_stack\u001b[0m\u001b[1;33m.\u001b[0m\u001b[0mtop\u001b[0m\u001b[1;33m\u001b[0m\u001b[1;33m\u001b[0m\u001b[0m\n\u001b[0;32m     37\u001b[0m     \u001b[1;32mif\u001b[0m \u001b[0mtop\u001b[0m \u001b[1;32mis\u001b[0m \u001b[1;32mNone\u001b[0m\u001b[1;33m:\u001b[0m\u001b[1;33m\u001b[0m\u001b[1;33m\u001b[0m\u001b[0m\n\u001b[1;32m---> 38\u001b[1;33m         \u001b[1;32mraise\u001b[0m \u001b[0mRuntimeError\u001b[0m\u001b[1;33m(\u001b[0m\u001b[0m_request_ctx_err_msg\u001b[0m\u001b[1;33m)\u001b[0m\u001b[1;33m\u001b[0m\u001b[1;33m\u001b[0m\u001b[0m\n\u001b[0m\u001b[0;32m     39\u001b[0m     \u001b[1;32mreturn\u001b[0m \u001b[0mgetattr\u001b[0m\u001b[1;33m(\u001b[0m\u001b[0mtop\u001b[0m\u001b[1;33m,\u001b[0m \u001b[0mname\u001b[0m\u001b[1;33m)\u001b[0m\u001b[1;33m\u001b[0m\u001b[1;33m\u001b[0m\u001b[0m\n\u001b[0;32m     40\u001b[0m \u001b[1;33m\u001b[0m\u001b[0m\n",
      "\u001b[1;31mRuntimeError\u001b[0m: Working outside of request context.\n\nThis typically means that you attempted to use functionality that needed\nan active HTTP request.  Consult the documentation on testing for\ninformation about how to avoid this problem."
     ]
    }
   ],
   "source": [
    "request.form.items()"
   ]
  },
  {
   "cell_type": "code",
   "execution_count": null,
   "metadata": {},
   "outputs": [],
   "source": []
  },
  {
   "cell_type": "code",
   "execution_count": 2,
   "metadata": {},
   "outputs": [],
   "source": [
    "def stock2(sym, start, end, price):\n",
    "    name = sym\n",
    "    startdate = datetime.strptime(start, '%Y-%m-%d')\n",
    "    enddate = datetime.strptime(end, '%Y-%m-%d')\n",
    "    pricetype = price\n",
    "    url = 'https://yahoo-finance15.p.rapidapi.com/api/yahoo/hi/history/'+ str(name) + '/1d'\n",
    "    \n",
    "    headers = {\n",
    "    'x-rapidapi-key': \"673e951a13mshe9df3409ae55508p1f23b5jsn64761284c0ab\",\n",
    "    'x-rapidapi-host': \"yahoo-finance15.p.rapidapi.com\"\n",
    "    }\n",
    "\n",
    "    response = requests.request(\"GET\", url, headers=headers)\n",
    "\n",
    "    print(response)\n",
    "    \n",
    "    values = response.json()\n",
    "    \n",
    "    values = values['items'].values()\n",
    "    \n",
    "    values= list(values)\n",
    "    date  = []\n",
    "    openp  = []\n",
    "    high = []\n",
    "    low  = []\n",
    "    adjclose = []\n",
    "    for i in values:\n",
    "        date.append(i['date']) \n",
    "        openp.append(i['open'])\n",
    "        high.append(i['high'])\n",
    "        low.append(i['low'])\n",
    "        adjclose.append(i['adjclose'])\n",
    "#df = pd.DataFrame([data], columns = ['Name', 'Age'])\n",
    "    df = pd.DataFrame()\n",
    "    df['Date'] = date\n",
    "    df['Open'] = openp\n",
    "    df['High'] = high\n",
    "    df['Low'] = low\n",
    "    df['Adjclose'] = adjclose\n",
    "    #converting the dataset to time series\n",
    "    df['Date'] = pd.to_datetime(df['Date'])\n",
    "    df.set_index('Date', inplace = True , drop = False)\n",
    "    \n",
    "    #Part5 Find the average Low price for all four stocks \n",
    "    #between the dates 03/15/2020 (included) and 06/15/2020 (excluded).\n",
    "    # to extract specific dates range\n",
    "    print(startdate.year,startdate.month,startdate.day)\n",
    "    print(enddate.year,enddate.month,enddate.day)\n",
    "    df = df[(df['Date']>=datetime(startdate.year,startdate.month,startdate.day))]\n",
    "    df =  df[(df['Date']<datetime(enddate.year,enddate.month,enddate.day))]\n",
    "    \n",
    "    y =  list(df[price])\n",
    "    x = list(df['Date'])\n",
    "    \n",
    "    fig, ax = plt.subplots(figsize = (16,12))\n",
    "    ax.plot(x, y,color='red',marker='o',label='sym')\n",
    "    plt.xlabel('Date')\n",
    "    plt.ylabel('Price')\n",
    "    plt.title(sym)\n",
    "    ax.legend()\n",
    "    \n",
    "    # Format time.\n",
    "    ax.xaxis_date()\n",
    "    ax.xaxis.set_major_formatter(mdates.DateFormatter(\"%Y-%m-%d\"))\n",
    " \n",
    "    plt.gcf().autofmt_xdate()   # Beautify the x-labels\n",
    "    plt.autoscale(tight=True)\n",
    " \n",
    "    return ax"
   ]
  }
 ],
 "metadata": {
  "kernelspec": {
   "display_name": "Python 3",
   "language": "python",
   "name": "python3"
  },
  "language_info": {
   "codemirror_mode": {
    "name": "ipython",
    "version": 3
   },
   "file_extension": ".py",
   "mimetype": "text/x-python",
   "name": "python",
   "nbconvert_exporter": "python",
   "pygments_lexer": "ipython3",
   "version": "3.8.3"
  }
 },
 "nbformat": 4,
 "nbformat_minor": 4
}
