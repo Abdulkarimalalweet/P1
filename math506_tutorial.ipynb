{
 "cells": [
  {
   "cell_type": "markdown",
   "metadata": {},
   "source": [
    "## Python Basics"
   ]
  },
  {
   "cell_type": "code",
   "execution_count": 6,
   "metadata": {},
   "outputs": [
    {
     "data": {
      "text/plain": [
       "1"
      ]
     },
     "execution_count": 6,
     "metadata": {},
     "output_type": "execute_result"
    }
   ],
   "source": [
    "   # division always returns a floating point number\n",
    "9 // 5"
   ]
  },
  {
   "cell_type": "markdown",
   "metadata": {},
   "source": [
    "### Variables\n",
    "1. Variable names can be made of alphanumeric characters and underscore and they cannot start with a number. They are also case sensitive.\n",
    "2. Variable assignment is done with the = operator. For example the command x=1 cretaes the varibale x and assigns it the value 1. The value of the variable is detremined dynamically (i.e it does not need to be defined beforehand) from the assignment.\n",
    "3. Fundamental types are: integer, float, boolean, string"
   ]
  },
  {
   "cell_type": "markdown",
   "metadata": {},
   "source": [
    "#### Integers and Floats (https://docs.python.org/3/tutorial/introduction.html#numbers)"
   ]
  },
  {
   "cell_type": "code",
   "execution_count": 7,
   "metadata": {},
   "outputs": [
    {
     "name": "stdout",
     "output_type": "stream",
     "text": [
      "<class 'int'>\n"
     ]
    }
   ],
   "source": [
    "x = 1\n",
    "print(type(x))"
   ]
  },
  {
   "cell_type": "code",
   "execution_count": 8,
   "metadata": {},
   "outputs": [
    {
     "name": "stdout",
     "output_type": "stream",
     "text": [
      "<class 'float'>\n"
     ]
    }
   ],
   "source": [
    "x = 1.0\n",
    "print(type(x))"
   ]
  },
  {
   "cell_type": "code",
   "execution_count": 9,
   "metadata": {},
   "outputs": [
    {
     "name": "stdout",
     "output_type": "stream",
     "text": [
      "3\n",
      "5.0\n"
     ]
    }
   ],
   "source": [
    "print(int(3.14))#casting float into integer\n",
    "\n",
    "print(float(5))#casting integer into float"
   ]
  },
  {
   "cell_type": "code",
   "execution_count": 10,
   "metadata": {},
   "outputs": [
    {
     "name": "stdout",
     "output_type": "stream",
     "text": [
      "Addition  3\n",
      "Subtraction  1\n",
      "Multiplication  4\n",
      "Exponentiation  8\n",
      "7.0\n",
      "Division 2.5\n",
      "Integer Division 2.0\n",
      "Remainder 1.0\n"
     ]
    }
   ],
   "source": [
    "#Operations\n",
    "x = 2\n",
    "y = 5.0\n",
    "\n",
    "print('Addition ',x+1) #Addition\n",
    "print('Subtraction ',x-1) #Subtraction\n",
    "print('Multiplication ',x*2) #Multiplication\n",
    "print('Exponentiation ',x**3) #Exponentiation\n",
    "print(x+y) #result of an operation on integer and float is a float\n",
    "print('Division',y/x)\n",
    "print('Integer Division', y//x)\n",
    "print('Remainder',y%x)"
   ]
  },
  {
   "cell_type": "markdown",
   "metadata": {},
   "source": [
    "#### Booleans"
   ]
  },
  {
   "cell_type": "code",
   "execution_count": 11,
   "metadata": {},
   "outputs": [
    {
     "name": "stdout",
     "output_type": "stream",
     "text": [
      "The type of y is <class 'bool'>\n",
      "The value of y is False\n"
     ]
    }
   ],
   "source": [
    "x = 1\n",
    "y = x==2\n",
    "print('The type of y is', type(y))\n",
    "print('The value of y is', y)"
   ]
  },
  {
   "cell_type": "code",
   "execution_count": 12,
   "metadata": {},
   "outputs": [
    {
     "name": "stdout",
     "output_type": "stream",
     "text": [
      "True is cast into the integer 1\n",
      "False is cast into the integer 0\n",
      "Any number not 0 is converted into  True\n",
      "Zero integer is converted into  False\n",
      "Zero float is converted into  False\n"
     ]
    },
    {
     "data": {
      "text/plain": [
       "True"
      ]
     },
     "execution_count": 12,
     "metadata": {},
     "output_type": "execute_result"
    }
   ],
   "source": [
    "#casting Boolean into integer\n",
    "x = True\n",
    "y = False\n",
    "print('True is cast into the integer %i'%int(x))\n",
    "print('False is cast into the integer %i'%int(y))\n",
    "#casting numbers into boolean. bool function converts every number other than 0 into True and 0 into False\n",
    "print(\"Any number not 0 is converted into \",bool(2.3))\n",
    "print(\"Zero integer is converted into \", bool(0))\n",
    "print(\"Zero float is converted into \", bool(0.0))\n",
    "bool(-1.1)"
   ]
  },
  {
   "cell_type": "code",
   "execution_count": 15,
   "metadata": {},
   "outputs": [
    {
     "name": "stdout",
     "output_type": "stream",
     "text": [
      "False\n",
      "True\n",
      "False\n",
      "False\n"
     ]
    }
   ],
   "source": [
    "#operations on booleans\n",
    "x = True\n",
    "y = False\n",
    "print(x and y)\n",
    "print(x or y)\n",
    "print(not x)\n",
    "print((x and y) or not x)"
   ]
  },
  {
   "cell_type": "code",
   "execution_count": 24,
   "metadata": {},
   "outputs": [
    {
     "name": "stdout",
     "output_type": "stream",
     "text": [
      "Usage: thingy [OPTIONS]\n",
      "     -h                      \\  Display this usage message\n",
      "     -H hostname               Hostname to connect to\n",
      "\n"
     ]
    }
   ],
   "source": [
    "print(\"\"\"\\\n",
    "\\\n",
    "\\\n",
    "Usage: thingy [OPTIONS]\n",
    "     -h                      \\  Display this usage message\n",
    "     -H hostname               Hostname to connect to\n",
    "\"\"\")"
   ]
  },
  {
   "cell_type": "markdown",
   "metadata": {},
   "source": [
    "#### Strings (https://docs.python.org/3/tutorial/introduction.html#strings)"
   ]
  },
  {
   "cell_type": "code",
   "execution_count": 29,
   "metadata": {},
   "outputs": [
    {
     "name": "stdout",
     "output_type": "stream",
     "text": [
      "The type of the string x is  <class 'str'>\n",
      "The length of the string \"Data Science\" is 12.\n",
      "The 3rd character of KFUPM is K.\n",
      "The last character of KFUPM is K.\n"
     ]
    }
   ],
   "source": [
    "x = 'KFUPM' #strings are defined whnether between single quotations\n",
    "y = \"Data Science\" # or between double quotations\n",
    "print(\"The type of the string x is \", type(x))\n",
    "print('The length of the string \"Data Science\" is %i.' % len(y)) # space is a character\n",
    "print(\"The 3rd character of KFUPM is %s.\"% x[0]) #notice indexing in Python starts from 0.\n",
    "print(\"The last character of KFUPM is %s.\"% x[-5]) #notice indexing in Python from right to left starts with -1"
   ]
  },
  {
   "cell_type": "code",
   "execution_count": 31,
   "metadata": {},
   "outputs": [
    {
     "data": {
      "text/plain": [
       "('1', 'False', 4)"
      ]
     },
     "execution_count": 31,
     "metadata": {},
     "output_type": "execute_result"
    }
   ],
   "source": [
    "#casting a number or a boolean into string\n",
    "str(1),str(False), 2+2"
   ]
  },
  {
   "cell_type": "code",
   "execution_count": 50,
   "metadata": {},
   "outputs": [
    {
     "ename": "TypeError",
     "evalue": "'set' object is not subscriptable",
     "output_type": "error",
     "traceback": [
      "\u001b[1;31m---------------------------------------------------------------------------\u001b[0m",
      "\u001b[1;31mTypeError\u001b[0m                                 Traceback (most recent call last)",
      "\u001b[1;32m<ipython-input-50-c0d54955c992>\u001b[0m in \u001b[0;36m<module>\u001b[1;34m\u001b[0m\n\u001b[0;32m      2\u001b[0m \u001b[0mx\u001b[0m \u001b[1;33m=\u001b[0m \u001b[1;34m'1010001'\u001b[0m\u001b[1;33m\u001b[0m\u001b[1;33m\u001b[0m\u001b[0m\n\u001b[0;32m      3\u001b[0m \u001b[0mtest\u001b[0m \u001b[1;33m=\u001b[0m \u001b[0mset\u001b[0m\u001b[1;33m(\u001b[0m\u001b[1;33m[\u001b[0m\u001b[1;36m1\u001b[0m\u001b[1;33m,\u001b[0m\u001b[1;36m2\u001b[0m \u001b[1;33m,\u001b[0m\u001b[1;36m3\u001b[0m\u001b[1;33m,\u001b[0m\u001b[1;36m4\u001b[0m\u001b[1;33m]\u001b[0m\u001b[1;33m)\u001b[0m\u001b[1;33m\u001b[0m\u001b[1;33m\u001b[0m\u001b[0m\n\u001b[1;32m----> 4\u001b[1;33m \u001b[0mprint\u001b[0m\u001b[1;33m(\u001b[0m\u001b[0mtest\u001b[0m\u001b[1;33m[\u001b[0m\u001b[1;36m1\u001b[0m\u001b[1;33m:\u001b[0m\u001b[1;33m]\u001b[0m\u001b[1;33m)\u001b[0m\u001b[1;33m\u001b[0m\u001b[1;33m\u001b[0m\u001b[0m\n\u001b[0m\u001b[0;32m      5\u001b[0m \u001b[0mint\u001b[0m\u001b[1;33m(\u001b[0m\u001b[1;33m)\u001b[0m\u001b[1;33m\u001b[0m\u001b[1;33m\u001b[0m\u001b[0m\n\u001b[0;32m      6\u001b[0m \u001b[0mprint\u001b[0m\u001b[1;33m(\u001b[0m\u001b[1;34m'The string x in base 10 is the integer %i'\u001b[0m\u001b[1;33m%\u001b[0m\u001b[0mint\u001b[0m\u001b[1;33m(\u001b[0m\u001b[0mx\u001b[0m\u001b[1;33m)\u001b[0m\u001b[1;33m)\u001b[0m\u001b[1;31m#int converts strings to integers in base 10\u001b[0m\u001b[1;33m\u001b[0m\u001b[1;33m\u001b[0m\u001b[0m\n",
      "\u001b[1;31mTypeError\u001b[0m: 'set' object is not subscriptable"
     ]
    }
   ],
   "source": [
    "#casting string to integers\n",
    "x = '1010001'\n",
    "test = set([1,2 ,3,4])\n",
    "print(test[1:])\n",
    "int()\n",
    "print('The string x in base 10 is the integer %i'%int(x))#int converts strings to integers in base 10\n",
    "print('The string x in base 2 is the integer %i'%int(x,base=2))#base argument tells how to interpret the integer, default is base 10.\n",
    "print('The string x in base 3 is the integer %i'%int(x,base=3))"
   ]
  },
  {
   "cell_type": "code",
   "execution_count": 33,
   "metadata": {},
   "outputs": [
    {
     "data": {
      "text/plain": [
       "6793"
      ]
     },
     "execution_count": 33,
     "metadata": {},
     "output_type": "execute_result"
    }
   ],
   "source": [
    "y = 'ALI'\n",
    "int(y,base=25)"
   ]
  },
  {
   "cell_type": "code",
   "execution_count": 34,
   "metadata": {},
   "outputs": [
    {
     "name": "stdout",
     "output_type": "stream",
     "text": [
      "Math 506\n",
      "Math 506\n",
      "Math 503\n"
     ]
    }
   ],
   "source": [
    "#operations on strings\n",
    "x = 'Math'\n",
    "y = '506'\n",
    "t = 503\n",
    "z = x + ' ' + y # addition operation on strings is concatanation\n",
    "print(z)\n",
    "print('%s%s%s'%(x,' ',y))\n",
    "print('%s%s%i'%(x,' ',t))"
   ]
  },
  {
   "cell_type": "code",
   "execution_count": 39,
   "metadata": {},
   "outputs": [
    {
     "name": "stdout",
     "output_type": "stream",
     "text": [
      "Kfupm\n",
      "KFUPM\n",
      "math 506\n",
      "MATH 503\n",
      "['MAT', ' 506']\n",
      "['MATH', '506']\n",
      "['kfupm']\n"
     ]
    },
    {
     "data": {
      "text/plain": [
       "'kfupm'"
      ]
     },
     "execution_count": 39,
     "metadata": {},
     "output_type": "execute_result"
    }
   ],
   "source": [
    "#some important methods on strings\n",
    "x = 'kfupm'\n",
    "y = 'MATH 506'\n",
    "print(x.capitalize())#changes the firt character into upper case\n",
    "print(x.upper())#cahnges all characters into upper case\n",
    "print(y.lower())#changes all characters into lower case\n",
    "print(y.replace('6','3'))# s.replaces('a','b') repace 'a' by 'b'. If no 'a', does nothing\n",
    "print(y.split('H'))# splits the string at the given character. default splits at blank. if character is not in the string, does nothing\n",
    "print(y.split())\n",
    "print(x.split())\n",
    "x"
   ]
  },
  {
   "cell_type": "code",
   "execution_count": 37,
   "metadata": {},
   "outputs": [
    {
     "ename": "AttributeError",
     "evalue": "'int' object has no attribute 'capitalize'",
     "output_type": "error",
     "traceback": [
      "\u001b[1;31m---------------------------------------------------------------------------\u001b[0m",
      "\u001b[1;31mAttributeError\u001b[0m                            Traceback (most recent call last)",
      "\u001b[1;32m<ipython-input-37-6b04ba12f897>\u001b[0m in \u001b[0;36m<module>\u001b[1;34m\u001b[0m\n\u001b[0;32m      1\u001b[0m \u001b[0mx\u001b[0m \u001b[1;33m=\u001b[0m \u001b[1;36m12\u001b[0m\u001b[1;33m\u001b[0m\u001b[1;33m\u001b[0m\u001b[0m\n\u001b[1;32m----> 2\u001b[1;33m \u001b[0mx\u001b[0m\u001b[1;33m.\u001b[0m\u001b[0mcapitalize\u001b[0m\u001b[1;33m(\u001b[0m\u001b[1;33m)\u001b[0m\u001b[1;33m\u001b[0m\u001b[1;33m\u001b[0m\u001b[0m\n\u001b[0m",
      "\u001b[1;31mAttributeError\u001b[0m: 'int' object has no attribute 'capitalize'"
     ]
    }
   ],
   "source": [
    "x = 12\n",
    "x.capitalize()"
   ]
  },
  {
   "cell_type": "markdown",
   "metadata": {},
   "source": [
    "### Data Types\n",
    "The important data types of Python are List, Dictionary, Set, and Tuple."
   ]
  },
  {
   "cell_type": "markdown",
   "metadata": {},
   "source": [
    "#### Lists (https://docs.python.org/3/tutorial/introduction.html#lists and https://docs.python.org/3/tutorial/datastructures.html#more-on-lists)\n",
    "Lists are Python version of arrays that can contain diffent types of items. Items are indexed and seperated by commas and collected between brackets."
   ]
  },
  {
   "cell_type": "code",
   "execution_count": 41,
   "metadata": {},
   "outputs": [
    {
     "name": "stdout",
     "output_type": "stream",
     "text": [
      "The first item on the list is 1\n",
      "The last item on the list is ['a', 'b']\n",
      "Items 1, 2, 3 on the list are [2.3, '10', True]\n",
      "All items from the beginning until the 3rd item(excluded) [1, 2.3, '10']\n",
      "All items from the 3rd item(included) until the last item [True, 'KFUPM', 'MATH', 506, False, ['a', 'b']]\n",
      "Return every 2nd item starting from the 1st until the 6th [2.3, True, 'MATH']\n"
     ]
    }
   ],
   "source": [
    "#indexing and slicing lists\n",
    "print('The first item on the list is', x[0]) #left-right indexing starts at 0\n",
    "print('The last item on the list is', x[-1]) #right-left indexing starts at -1\n",
    "print('Items 1, 2, 3 on the list are', x[1:4])# slicing syntax is a:b where index a is included, index b is excluded\n",
    "print('All items from the beginning until the 3rd item(excluded)',x[:3])# slicing synthax :a means from the beginning till ath item (exclude)\n",
    "print('All items from the 3rd item(included) until the last item',x[3:])# slicing synthax a: means from theath item (inclded) untill the end\n",
    "print('Return every 2nd item starting from the 1st until the 6th',x[1:6:2])#slicing a:b:c means return starting from ath until bth(excluded) every cth item"
   ]
  },
  {
   "cell_type": "code",
   "execution_count": 42,
   "metadata": {},
   "outputs": [
    {
     "name": "stdout",
     "output_type": "stream",
     "text": [
      "[1, 2.3, '10', True, 'KFUPM', 'MATH', 506, False, ['a', 'b'], 'Dammam', 2020, 'KSA']\n"
     ]
    }
   ],
   "source": [
    "#addition operation on lists is a concatanation\n",
    "y = ['Dammam',2020,'KSA']\n",
    "print(x+y)"
   ]
  },
  {
   "cell_type": "code",
   "execution_count": 40,
   "metadata": {},
   "outputs": [
    {
     "name": "stdout",
     "output_type": "stream",
     "text": [
      "<class 'list'>\n"
     ]
    }
   ],
   "source": [
    "#defining lists\n",
    "x = [1,2.3,'10',True,'KFUPM','MATH',506,False,['a','b']]\n",
    "print(type(x))"
   ]
  },
  {
   "cell_type": "code",
   "execution_count": 45,
   "metadata": {},
   "outputs": [
    {
     "name": "stdout",
     "output_type": "stream",
     "text": [
      "[1, ['a', 'b'], False, 506, True, ['a', 'b'], '10', 2.3, 1, [1, 2]]\n",
      "[1, ['a', 'b'], False, 506, True, ['a', 'b'], '10', 2.3, 1, [1, 2], 1, 2]\n",
      "[1, ['a', 'b'], False, 506, True, ['a', 'b'], '10', 2.3, 1, 1, 2]\n",
      "[1, ['a', 'b'], False, ['a', 'b'], 506, True, ['a', 'b'], '10', 2.3, 1, 1, 2]\n",
      "2\n",
      "True\n",
      "[1, 1, 2.3, '10', ['a', 'b'], 506, ['a', 'b'], False, ['a', 'b'], 1]\n",
      "Ascending sorting [-23, -3, 9, 10, 56]\n",
      "Descending sorting [56, 10, 9, -3, -23]\n"
     ]
    },
    {
     "data": {
      "text/plain": [
       "[1, 1, 2.3, '10', 506, ['a', 'b'], False, ['a', 'b'], 1]"
      ]
     },
     "execution_count": 45,
     "metadata": {},
     "output_type": "execute_result"
    }
   ],
   "source": [
    "#some important methods on lists\n",
    "x.append([1,2])#adds to the end of x the item [1,2]\n",
    "print(x) \n",
    "x.extend([1,2])#adds to the end of the list the itmes 1 and 2\n",
    "print(x) \n",
    "x.remove([1,2]) #remove the first occurence of item [1,2]\n",
    "print(x)\n",
    "x.insert(3,['a','b']) # inserts to the 3rd index the item ['a','b']\n",
    "print(x)\n",
    "print(x.pop())#removes and returns the last item on the list\n",
    "print(x.pop(5))#removes and returns the item at the 5th index\n",
    "x.reverse()\n",
    "print(x)\n",
    "z = [-3,10,-23,56,9]\n",
    "z.sort() #by default the order is ascending\n",
    "print('Ascending sorting', z)\n",
    "z.sort(reverse=True)\n",
    "print('Descending sorting', z)\n",
    "x.pop(4)\n",
    "x"
   ]
  },
  {
   "cell_type": "markdown",
   "metadata": {},
   "source": [
    "#### Dictionaries (https://docs.python.org/3/tutorial/datastructures.html#dictionaries)\n",
    "Dictionaries are set of key:value pairs. Dictionaries are unordered."
   ]
  },
  {
   "cell_type": "code",
   "execution_count": 52,
   "metadata": {},
   "outputs": [
    {
     "name": "stdout",
     "output_type": "stream",
     "text": [
      "{'Name': ['Muhammet', 'Ahmet', 'Ali'], 'Age': [18, 22, 20], 'School': 'KFUPM'}\n"
     ]
    }
   ],
   "source": [
    "#defining dictionaries 1\n",
    "d = {'Name':['Muhammet','Ahmet','Ali'],'Age':[18,22,20],'School':'KFUPM'}\n",
    "print(d)"
   ]
  },
  {
   "cell_type": "code",
   "execution_count": 53,
   "metadata": {},
   "outputs": [
    {
     "data": {
      "text/plain": [
       "{'Name': ['Muhammet', 'Ahmet', 'Ali'], 'Age': [18, 22, 20], 'School': 'KFUPM'}"
      ]
     },
     "execution_count": 53,
     "metadata": {},
     "output_type": "execute_result"
    }
   ],
   "source": [
    "#defining dictionaries 2\n",
    "dict([('Name',['Muhammet','Ahmet','Ali']),('Age',[18,22,20]),('School','KFUPM')])"
   ]
  },
  {
   "cell_type": "code",
   "execution_count": 54,
   "metadata": {},
   "outputs": [],
   "source": [
    "#defining dictionaries 3\n",
    "a = ['Name','Age','School']\n",
    "b = [['Muhammet','Ahmet','Ali'],[18,22,20],'KFUPM']\n",
    "dict(zip(a,b))\n",
    "zip?\n"
   ]
  },
  {
   "cell_type": "code",
   "execution_count": 49,
   "metadata": {},
   "outputs": [
    {
     "data": {
      "text/plain": [
       "[('Name', ['Muhammet', 'Ahmet', 'Ali']),\n",
       " ('Age', [18, 22, 20]),\n",
       " ('School', 'KFUPM')]"
      ]
     },
     "execution_count": 49,
     "metadata": {},
     "output_type": "execute_result"
    }
   ],
   "source": [
    "list(zip(a,b))"
   ]
  },
  {
   "cell_type": "code",
   "execution_count": 55,
   "metadata": {},
   "outputs": [
    {
     "data": {
      "text/plain": [
       "{'Name': ['Muhammet', 'Ahmet', 'Ali'], 'Age': [18, 22, 20], 'School': 'KFUPM'}"
      ]
     },
     "execution_count": 55,
     "metadata": {},
     "output_type": "execute_result"
    }
   ],
   "source": [
    "#defining dictionaries #4\n",
    "d = {} #creates an empty dictionary\n",
    "d['Name'] = ['Muhammet','Ahmet','Ali']\n",
    "d['Age'] = [18,22,20]\n",
    "d['School'] = 'KFUPM'\n",
    "d"
   ]
  },
  {
   "cell_type": "code",
   "execution_count": 58,
   "metadata": {},
   "outputs": [
    {
     "data": {
      "text/plain": [
       "{'Name': ['Muhammet', 'Ahmet', 'Ali'], 'Age': [18, 22, 20], 'School': 'T'}"
      ]
     },
     "execution_count": 58,
     "metadata": {},
     "output_type": "execute_result"
    }
   ],
   "source": [
    "d['School']='T'\n",
    "d"
   ]
  },
  {
   "cell_type": "code",
   "execution_count": 59,
   "metadata": {},
   "outputs": [
    {
     "name": "stdout",
     "output_type": "stream",
     "text": [
      "All the keys of the dictionary dict_keys(['Name', 'Age', 'School'])\n",
      "All the values of the dictionary dict_values([['Muhammet', 'Ahmet', 'Ali'], [18, 22, 20], 'T'])\n"
     ]
    }
   ],
   "source": [
    "#some important methods\n",
    "print('All the keys of the dictionary',d.keys()) # returns all the keys\n",
    "print('All the values of the dictionary',d.values()) #returns all the values"
   ]
  },
  {
   "cell_type": "code",
   "execution_count": null,
   "metadata": {},
   "outputs": [],
   "source": [
    "#accessing key values\n",
    "print('Values of the key Name:',d['Age'].lower())"
   ]
  },
  {
   "cell_type": "code",
   "execution_count": null,
   "metadata": {},
   "outputs": [],
   "source": [
    "#adding a new key:value pair \n",
    "d['Country'] = ['KSA','BHR','JOR']\n",
    "print(d)"
   ]
  },
  {
   "cell_type": "markdown",
   "metadata": {},
   "source": [
    "#### Sets (https://docs.python.org/3/tutorial/datastructures.html#sets)\n",
    "A set is an unordered collection with no duplicate elements."
   ]
  },
  {
   "cell_type": "code",
   "execution_count": null,
   "metadata": {},
   "outputs": [],
   "source": [
    "#in math\n",
    "{ } set\n",
    "#in python\n",
    "{ } dictionary"
   ]
  },
  {
   "cell_type": "code",
   "execution_count": 60,
   "metadata": {},
   "outputs": [
    {
     "name": "stdout",
     "output_type": "stream",
     "text": [
      "{1, 2, 3}\n"
     ]
    }
   ],
   "source": [
    "#defining sets\n",
    "x = set([1,2,3,3,3,3])\n",
    "print(x)"
   ]
  },
  {
   "cell_type": "code",
   "execution_count": null,
   "metadata": {},
   "outputs": [],
   "source": [
    "#set gives unique items in a string or list\n",
    "#s = set('KKFUPMFUUU')\n",
    "#print(s)\n",
    "l = ['1',1,4,1,5,7,'5',4]\n",
    "print(set(l))"
   ]
  },
  {
   "cell_type": "code",
   "execution_count": null,
   "metadata": {},
   "outputs": [],
   "source": [
    "#operations on sets\n",
    "s1 = set([1,3,5,8,10])\n",
    "s2 = set([2,4,6,8,10])\n",
    "print('s1-s2',s1-s2)\n",
    "print('s2-s1',s2-s1)\n",
    "print('Union of two sets', s1 | s2)\n",
    "print('Intersection of two sets', s1&s2)"
   ]
  },
  {
   "cell_type": "code",
   "execution_count": 51,
   "metadata": {},
   "outputs": [
    {
     "name": "stdout",
     "output_type": "stream",
     "text": [
      "True\n"
     ]
    },
    {
     "data": {
      "text/plain": [
       "{1, 2, 3}"
      ]
     },
     "execution_count": 51,
     "metadata": {},
     "output_type": "execute_result"
    }
   ],
   "source": [
    "#sets are unordered\n",
    "s1 = set([1,2,3])\n",
    "s2 = set([2,3,1])\n",
    "print(s1==s2)\n",
    "s2"
   ]
  },
  {
   "cell_type": "code",
   "execution_count": null,
   "metadata": {},
   "outputs": [],
   "source": [
    "\n",
    "l1 =[1,2,3]\n",
    "l2 =[2,3,1]\n",
    "print(l1==l2)"
   ]
  },
  {
   "cell_type": "code",
   "execution_count": null,
   "metadata": {},
   "outputs": [],
   "source": [
    "s1.remove(4)\n",
    "s1"
   ]
  },
  {
   "cell_type": "code",
   "execution_count": null,
   "metadata": {},
   "outputs": [],
   "source": [
    "l1.remove(4)\n",
    "l1"
   ]
  },
  {
   "cell_type": "markdown",
   "metadata": {},
   "source": [
    "#### Tuples (https://docs.python.org/3/tutorial/datastructures.html#tuples-and-sequences)\n",
    "Tuples are ordered collections of items between paranthesis separated by commas. Tuples can be sliced in the same way as lists."
   ]
  },
  {
   "cell_type": "code",
   "execution_count": null,
   "metadata": {},
   "outputs": [],
   "source": [
    "#defining tuples\n",
    "t = ([1,2],3,'tuple',(1,2,3))\n",
    "t[1:]"
   ]
  },
  {
   "cell_type": "code",
   "execution_count": null,
   "metadata": {},
   "outputs": [],
   "source": [
    "#tuples are ordered\n",
    "t1 = (1,2,3)\n",
    "t2 = (2,3,1)\n",
    "print(t1==t2)"
   ]
  },
  {
   "cell_type": "markdown",
   "metadata": {},
   "source": [
    "#### Mutable vs Immutable\n",
    "Immutable: An object with a fixed value. Immutable objects include numbers, strings and tuples. Such an object cannot be altered. A new object has to be created if a different value has to be stored. \n",
    "\n",
    "Mutable: Mutable objects can change their value.Mutable objects include lists, sets."
   ]
  },
  {
   "cell_type": "code",
   "execution_count": null,
   "metadata": {},
   "outputs": [],
   "source": [
    "t = (1,2,3)\n",
    "t[0]=4"
   ]
  },
  {
   "cell_type": "code",
   "execution_count": null,
   "metadata": {},
   "outputs": [],
   "source": [
    "l = [1,2,3]\n",
    "l[0]=4\n",
    "print(l)"
   ]
  },
  {
   "cell_type": "code",
   "execution_count": null,
   "metadata": {},
   "outputs": [],
   "source": [
    "s = 'KFUPM'\n",
    "s[0] = 'T'"
   ]
  },
  {
   "cell_type": "markdown",
   "metadata": {},
   "source": [
    "#### If - Else Syntax (https://docs.python.org/3/tutorial/controlflow.html#if-statements)"
   ]
  },
  {
   "cell_type": "code",
   "execution_count": null,
   "metadata": {},
   "outputs": [],
   "source": [
    "x=0\n",
    "if (x>0):\n",
    "    print('x is positive')\n",
    "else:\n",
    "    print('x is not positive')"
   ]
  },
  {
   "cell_type": "code",
   "execution_count": null,
   "metadata": {},
   "outputs": [],
   "source": [
    "x=2\n",
    "if (x>0):\n",
    "    print('x is positive')\n",
    "elif (x<0):\n",
    "    print('x is negative')\n",
    "else:\n",
    "    print('x is 0')"
   ]
  },
  {
   "cell_type": "code",
   "execution_count": null,
   "metadata": {},
   "outputs": [],
   "source": [
    "x=3\n",
    "if (x>0) and (x<5):\n",
    "    print('x is positive and less than 5')"
   ]
  },
  {
   "cell_type": "markdown",
   "metadata": {},
   "source": [
    "#### For Loop Syntax (https://docs.python.org/3/tutorial/controlflow.html#for-statements)\n",
    "For loops are designed over iterable objects. An object capable of returning its members one at a time is called an iterable. Examples of iterables include lists, strings, tuples, dictionaries, ranges, file objects, and objects of any classes you define with an __iter__() method or with a __getitem__() method that implements Sequence semantics.\n",
    "\n",
    "**1. Range function**: To loop over a sequence of numbers we use the range function https://docs.python.org/3/tutorial/controlflow.html#the-range-function"
   ]
  },
  {
   "cell_type": "code",
   "execution_count": null,
   "metadata": {},
   "outputs": [],
   "source": [
    "x = range(3,10)\n",
    "print(x)\n",
    "print(type(x))\n",
    "print(list(x)) # to see explicitly the range object"
   ]
  },
  {
   "cell_type": "code",
   "execution_count": null,
   "metadata": {},
   "outputs": [],
   "source": [
    "for i in range(10):\n",
    "    print(i**2)"
   ]
  },
  {
   "cell_type": "markdown",
   "metadata": {},
   "source": [
    "**2. Looping over lists & tuples**"
   ]
  },
  {
   "cell_type": "code",
   "execution_count": null,
   "metadata": {},
   "outputs": [],
   "source": [
    "x = [45,2,'3','four','']\n",
    "#total = 0\n",
    "\n",
    "for i,item in zip(range(len(x)),x):\n",
    "    #total = total + bool(i)\n",
    "    print('This is index', i)\n",
    "    print('This is the item', item)\n",
    "    print('____')\n",
    "#print(total)   "
   ]
  },
  {
   "cell_type": "code",
   "execution_count": null,
   "metadata": {},
   "outputs": [],
   "source": [
    "list(enumerate(x))"
   ]
  },
  {
   "cell_type": "markdown",
   "metadata": {},
   "source": [
    "**3. Looping over strings**"
   ]
  },
  {
   "cell_type": "code",
   "execution_count": null,
   "metadata": {},
   "outputs": [],
   "source": [
    "for c in 'kfupm':\n",
    "    print(c.upper())"
   ]
  },
  {
   "cell_type": "markdown",
   "metadata": {},
   "source": [
    "**4.Looping over dictionaries**\n",
    "In fact it loops over the keys"
   ]
  },
  {
   "cell_type": "code",
   "execution_count": null,
   "metadata": {},
   "outputs": [],
   "source": [
    "d = {'Name':['Muhammet','Ahmet','Ali'],'Age':[18,22,20],'School':'KFUPM'}"
   ]
  },
  {
   "cell_type": "code",
   "execution_count": null,
   "metadata": {},
   "outputs": [],
   "source": [
    "for key in d:\n",
    "    print(d[key])"
   ]
  },
  {
   "cell_type": "code",
   "execution_count": null,
   "metadata": {},
   "outputs": [],
   "source": [
    "for asd in d.keys():\n",
    "    print(d[asd])"
   ]
  },
  {
   "cell_type": "markdown",
   "metadata": {},
   "source": [
    "#### List Comprehensions\n",
    "A method to create lists using for loops and conditionals"
   ]
  },
  {
   "cell_type": "code",
   "execution_count": null,
   "metadata": {},
   "outputs": [],
   "source": [
    "l = [str(i) for i in range(100)]\n",
    "print(l)"
   ]
  },
  {
   "cell_type": "code",
   "execution_count": null,
   "metadata": {},
   "outputs": [],
   "source": [
    "l = [i**2 for i in range(1000) if i%2==0]\n",
    "print(l)"
   ]
  },
  {
   "cell_type": "code",
   "execution_count": null,
   "metadata": {},
   "outputs": [],
   "source": [
    "l = [(i,i**2) if i%2==0 else (i,i**3) for i in range(100)]\n",
    "print(l)"
   ]
  },
  {
   "cell_type": "markdown",
   "metadata": {},
   "source": [
    "### Functions\n",
    "1. Python Built-in Functions (https://docs.python.org/3/library/functions.html)"
   ]
  },
  {
   "cell_type": "code",
   "execution_count": 61,
   "metadata": {},
   "outputs": [
    {
     "name": "stdout",
     "output_type": "stream",
     "text": [
      "Length of a list is number of items in that list 3\n",
      "Length of a dictionary is the number of key:value pairs 3\n",
      "Length of a string is number of characters in the string 5\n"
     ]
    }
   ],
   "source": [
    "#length of an object\n",
    "l = [[1,2],3,'LIST']\n",
    "d = {'Name':['Muhammet','Ahmet','Ali'],'Age':[18,22,20],'School':'KFUPM'}\n",
    "s='KFUPM'\n",
    "print('Length of a list is number of items in that list',len(l))\n",
    "print('Length of a dictionary is the number of key:value pairs',len(d))\n",
    "print('Length of a string is number of characters in the string', len(s))"
   ]
  },
  {
   "cell_type": "code",
   "execution_count": 64,
   "metadata": {},
   "outputs": [],
   "source": [
    "#map function\n",
    "list(map(abs,[-23,-12,-7,0,1,4]))\n",
    "map?"
   ]
  },
  {
   "cell_type": "markdown",
   "metadata": {},
   "source": [
    "**2. Regular Functions** (https://docs.python.org/3/tutorial/controlflow.html#defining-functions)"
   ]
  },
  {
   "cell_type": "code",
   "execution_count": 67,
   "metadata": {},
   "outputs": [
    {
     "data": {
      "text/plain": [
       "tuple"
      ]
     },
     "execution_count": 67,
     "metadata": {},
     "output_type": "execute_result"
    }
   ],
   "source": [
    "def fun(asd):\n",
    "    '''x is a number'''\n",
    "    return (asd,asd**2)\n",
    "x = fun(5)\n",
    "type(x)"
   ]
  },
  {
   "cell_type": "code",
   "execution_count": null,
   "metadata": {},
   "outputs": [],
   "source": [
    "def g(base=0,exp=1):\n",
    "    return base**exp\n",
    "#print(g())\n",
    "print(g(2))\n",
    "print(g(2,3))\n",
    "print(g(exp=9,base=2))"
   ]
  },
  {
   "cell_type": "markdown",
   "metadata": {},
   "source": [
    "**3. One liners (a.k.a Lambda Functions)**\n",
    "The syntax of one liners are as follows:\n",
    "\n",
    "name_of_function = lambda list_of_variables: function_exp\n"
   ]
  },
  {
   "cell_type": "code",
   "execution_count": null,
   "metadata": {},
   "outputs": [],
   "source": [
    "f = lambda x,y:x**y\n",
    "f(2,3)"
   ]
  },
  {
   "cell_type": "code",
   "execution_count": null,
   "metadata": {},
   "outputs": [],
   "source": [
    "list(map(lambda x,y: x**y,[2,3,4],list(map(lambda x:x-1,[2,3,4]))))"
   ]
  },
  {
   "cell_type": "markdown",
   "metadata": {},
   "source": [
    "### Classes\n",
    "Please start reading about classes. (https://docs.python.org/3/tutorial/classes.html). We will cover them later in the course."
   ]
  },
  {
   "cell_type": "markdown",
   "metadata": {},
   "source": [
    "## NumPy Basics\n",
    "NumPy which stands for the numerical Python is the standard package to work with numerical data in Python. The main object of the NumPy library is an array. An **array** is a grid system used to store homogenous data type. "
   ]
  },
  {
   "cell_type": "code",
   "execution_count": 1,
   "metadata": {},
   "outputs": [],
   "source": [
    "import numpy as np"
   ]
  },
  {
   "cell_type": "code",
   "execution_count": null,
   "metadata": {},
   "outputs": [],
   "source": []
  },
  {
   "cell_type": "code",
   "execution_count": 4,
   "metadata": {},
   "outputs": [
    {
     "data": {
      "text/plain": [
       "3"
      ]
     },
     "execution_count": 4,
     "metadata": {},
     "output_type": "execute_result"
    }
   ],
   "source": [
    "arr = np.array([1,2,3,4,5])\n",
    "arr[2]\n",
    "arr."
   ]
  },
  {
   "cell_type": "code",
   "execution_count": 3,
   "metadata": {},
   "outputs": [],
   "source": [
    "#defining an array\n",
    "arr1 = np.array([1,2,3,4,5]) #1-dimensional (column vectors)\n",
    "arr2 = np.array([[1,2,3],[4,5,6]]) #2-dimensional(list of lists) (matrices)\n",
    "arr3 = np.array([[[1,2],[3,4]],[[5,6],[7,8]]]) # 3-dimensional (list of lists of lists) (tensors)"
   ]
  },
  {
   "cell_type": "code",
   "execution_count": 12,
   "metadata": {},
   "outputs": [
    {
     "data": {
      "text/plain": [
       "array([[[1, 2],\n",
       "        [3, 4]],\n",
       "\n",
       "       [[5, 6],\n",
       "        [7, 8]]])"
      ]
     },
     "execution_count": 12,
     "metadata": {},
     "output_type": "execute_result"
    }
   ],
   "source": [
    "arr3"
   ]
  },
  {
   "cell_type": "code",
   "execution_count": 13,
   "metadata": {},
   "outputs": [
    {
     "name": "stdout",
     "output_type": "stream",
     "text": [
      "(5,)\n",
      "(2, 3)\n",
      "(2, 2, 2)\n"
     ]
    }
   ],
   "source": [
    "#shape of the array\n",
    "print(arr1.shape)\n",
    "print(arr2.shape)\n",
    "print(arr3.shape)"
   ]
  },
  {
   "cell_type": "code",
   "execution_count": 14,
   "metadata": {},
   "outputs": [
    {
     "name": "stdout",
     "output_type": "stream",
     "text": [
      "[[1 2]\n",
      " [3 4]\n",
      " [5 6]\n",
      " [7 8]]\n"
     ]
    }
   ],
   "source": [
    "#reshaping arrays. It first flattens all arrays by rows,then reshapes.\n",
    "#arr1_r = arr1.reshape(1,5) #row vector\n",
    "#arr2_r = arr2.reshape(3,2,1)\n",
    "arr3_r = arr3.reshape(4,2)\n",
    "print(arr3_r)"
   ]
  },
  {
   "cell_type": "code",
   "execution_count": 15,
   "metadata": {},
   "outputs": [
    {
     "name": "stderr",
     "output_type": "stream",
     "text": [
      "<>:2: SyntaxWarning: 'int' object is not callable; perhaps you missed a comma?\n",
      "<>:2: SyntaxWarning: 'int' object is not callable; perhaps you missed a comma?\n",
      "<ipython-input-15-93730acaddd7>:2: SyntaxWarning: 'int' object is not callable; perhaps you missed a comma?\n",
      "  3,4(\"\")\n"
     ]
    },
    {
     "ename": "TypeError",
     "evalue": "'int' object is not callable",
     "output_type": "error",
     "traceback": [
      "\u001b[1;31m---------------------------------------------------------------------------\u001b[0m",
      "\u001b[1;31mTypeError\u001b[0m                                 Traceback (most recent call last)",
      "\u001b[1;32m<ipython-input-15-93730acaddd7>\u001b[0m in \u001b[0;36m<module>\u001b[1;34m\u001b[0m\n\u001b[0;32m      1\u001b[0m \u001b[1;36m1\u001b[0m\u001b[1;33m,\u001b[0m\u001b[1;36m2\u001b[0m\u001b[1;33m\u001b[0m\u001b[1;33m\u001b[0m\u001b[0m\n\u001b[1;32m----> 2\u001b[1;33m \u001b[1;36m3\u001b[0m\u001b[1;33m,\u001b[0m\u001b[1;36m4\u001b[0m\u001b[1;33m(\u001b[0m\u001b[1;34m\"\"\u001b[0m\u001b[1;33m)\u001b[0m\u001b[1;33m\u001b[0m\u001b[1;33m\u001b[0m\u001b[0m\n\u001b[0m\u001b[0;32m      3\u001b[0m \u001b[1;33m...\u001b[0m\u001b[1;33m,\u001b[0m\u001b[1;36m8\u001b[0m\u001b[1;33m\u001b[0m\u001b[1;33m\u001b[0m\u001b[0m\n\u001b[0;32m      4\u001b[0m \u001b[0marr3_r\u001b[0m\u001b[1;33m\u001b[0m\u001b[1;33m\u001b[0m\u001b[0m\n",
      "\u001b[1;31mTypeError\u001b[0m: 'int' object is not callable"
     ]
    }
   ],
   "source": [
    "1,2\n",
    ",3,4\n",
    "...,8\n",
    "arr3_r"
   ]
  },
  {
   "cell_type": "code",
   "execution_count": null,
   "metadata": {},
   "outputs": [],
   "source": [
    "arr2"
   ]
  },
  {
   "cell_type": "markdown",
   "metadata": {},
   "source": [
    "**indexing arrays**: Similar to lists, but has to be done for all dimensionsTo access a specific element an indexing system is required. The most common indexing system used is tuples."
   ]
  },
  {
   "cell_type": "code",
   "execution_count": 18,
   "metadata": {},
   "outputs": [
    {
     "name": "stdout",
     "output_type": "stream",
     "text": [
      "6\n",
      "[3 6]\n",
      "[4 5]\n"
     ]
    }
   ],
   "source": [
    "print(arr2[1,2])# entry in the 2nd row 3rd column\n",
    "print(arr2[:,2])#3rd column\n",
    "print(arr2[1,:-1])#2nd row, reurned as column vector"
   ]
  },
  {
   "cell_type": "markdown",
   "metadata": {},
   "source": [
    "1-dimensional arrays may look similar to lists. However they have some major differences. \n",
    "\n",
    "Arrays contain only one type of data whereas lists may contain different types of data. "
   ]
  },
  {
   "cell_type": "code",
   "execution_count": 19,
   "metadata": {},
   "outputs": [
    {
     "data": {
      "text/plain": [
       "array(['1', 'KFUPM', '1953', 'True'], dtype='<U11')"
      ]
     },
     "execution_count": 19,
     "metadata": {},
     "output_type": "execute_result"
    }
   ],
   "source": [
    "np.array([1,'KFUPM',1953,True])"
   ]
  },
  {
   "cell_type": "code",
   "execution_count": 20,
   "metadata": {},
   "outputs": [
    {
     "data": {
      "text/plain": [
       "array([   0, 1953,    1])"
      ]
     },
     "execution_count": 20,
     "metadata": {},
     "output_type": "execute_result"
    }
   ],
   "source": [
    "np.array([False,1953,True])"
   ]
  },
  {
   "cell_type": "code",
   "execution_count": 21,
   "metadata": {},
   "outputs": [
    {
     "data": {
      "text/plain": [
       "array(['1953', 'True'], dtype='<U4')"
      ]
     },
     "execution_count": 21,
     "metadata": {},
     "output_type": "execute_result"
    }
   ],
   "source": [
    "np.array([1953,True],dtype='str')"
   ]
  },
  {
   "cell_type": "markdown",
   "metadata": {},
   "source": [
    "**Broadcasting**:Second, operations on arays are defined element wise (broadcasting).If the dimensions do not match erro message is raised"
   ]
  },
  {
   "cell_type": "code",
   "execution_count": 22,
   "metadata": {},
   "outputs": [
    {
     "name": "stdout",
     "output_type": "stream",
     "text": [
      "[5 7 9]\n",
      "[ 6 12 20]\n",
      "[  9  64 625]\n",
      "[1.5        1.33333333 1.25      ]\n",
      "[1 1 1]\n"
     ]
    }
   ],
   "source": [
    "arr1 = np.array([3,4,5])\n",
    "arr2 = np.array([2,3,4])\n",
    "\n",
    "print(arr1+arr2)\n",
    "print(arr1*arr2)\n",
    "print(arr1**arr2)\n",
    "print(arr1/arr2)\n",
    "print(arr1//arr2)"
   ]
  },
  {
   "cell_type": "code",
   "execution_count": 23,
   "metadata": {},
   "outputs": [
    {
     "data": {
      "text/plain": [
       "[3, 4, 5, 2, 3, 4]"
      ]
     },
     "execution_count": 23,
     "metadata": {},
     "output_type": "execute_result"
    }
   ],
   "source": [
    "l1 = [3,4,5]\n",
    "l2 = [2,3,4]\n",
    "\n",
    "l1+l2"
   ]
  },
  {
   "cell_type": "code",
   "execution_count": 10,
   "metadata": {},
   "outputs": [
    {
     "name": "stdout",
     "output_type": "stream",
     "text": [
      "Maximum of the array: [-5.62211546e+01  2.87495350e+01  2.57571130e+01  1.92594684e+01\n",
      " -1.25996099e+01  1.70479303e+01  2.27877206e+01  1.58034429e+01\n",
      " -1.97338856e+01 -1.15952255e+01  4.01052739e+01 -6.02213605e+01\n",
      " -2.89925340e+01  1.49306199e+01  2.46880681e+01  9.61471169e+00\n",
      "  2.01710861e+01 -1.51532099e-01 -2.39780888e+01 -2.92312950e+01\n",
      " -9.25232579e+00 -1.60653634e+01  1.86606959e+01  8.01762025e+00\n",
      "  3.79091746e+01 -5.40720942e+00  2.69981390e+00 -1.46398801e+01\n",
      " -1.22008831e+01  2.71662868e+01  1.20420832e-01  1.01215045e+00\n",
      " -1.73241979e+01  1.19256823e+01  2.78794989e+01  2.10577207e+01\n",
      " -1.17781147e+01  2.02450930e+01 -6.73674950e+01  1.66387404e+01\n",
      " -2.18219350e-02  2.68372416e+01  3.24434199e+00  2.71166331e+01\n",
      " -3.50752931e+01 -1.32406869e+01 -2.61040742e+01  2.61595800e+00\n",
      "  2.03689719e+00 -2.74737463e+01  1.69615212e+01 -1.44332495e+01\n",
      "  2.02464667e+01 -3.30947216e+01  3.22872732e+00 -3.58596115e+01\n",
      " -2.43310367e+01 -9.69934050e+00  1.94615656e+01  8.22426986e+00\n",
      " -8.38534590e+00  1.04388825e+01  1.28588557e+01  4.81664105e+01\n",
      " -1.00071786e+01  5.39198466e+00 -2.70858593e+01 -2.96472731e+01\n",
      "  4.64137089e+01 -6.40944912e+01 -4.10600238e+01  7.56717300e+00\n",
      " -4.13568415e+00  2.30553425e+01  2.73233355e+01 -3.85029508e+01\n",
      "  3.46529368e+01  9.13759916e+00 -2.22887551e+01  1.56419861e+01\n",
      " -4.60433160e+01 -1.99305535e+01 -5.66175346e+00 -6.23569582e-01\n",
      " -1.48150971e+01 -1.55026657e+00  5.06485141e+01  1.51526468e+01\n",
      " -4.87567148e+00 -4.38025661e+01  4.14134419e+01  1.90713211e+01\n",
      " -1.27794223e+01  3.78913039e+01  3.69534403e+01 -1.61475826e+01\n",
      " -9.72725088e+00 -7.34576861e-01 -7.45927098e+01  3.04661018e+01]\n"
     ]
    }
   ],
   "source": [
    "import numpy as np\n",
    "\n",
    "np.random.seed(0)\n",
    "\n",
    "A = np.random.normal(size=(100,25))\n",
    "\n",
    "B = np.random.normal(size=(25,50))\n",
    "\n",
    "AB = np.matmul(A,B)\n",
    "\n",
    "#print(np.matmul(A,B))\n",
    "print('Maximum of the array:',AB.sum(axis=1))\n",
    "#print(np.matmul(A,B))"
   ]
  },
  {
   "cell_type": "code",
   "execution_count": null,
   "metadata": {},
   "outputs": [],
   "source": [
    "arr3=np.array([2,3])\n",
    "arr1+arr3"
   ]
  },
  {
   "cell_type": "markdown",
   "metadata": {},
   "source": [
    "**Important methods on Arrays**"
   ]
  },
  {
   "cell_type": "code",
   "execution_count": 27,
   "metadata": {},
   "outputs": [
    {
     "name": "stdout",
     "output_type": "stream",
     "text": [
      "Maximum of the array: 129\n",
      "Minimum of the array: 74\n",
      "Sum of the items in the array: 5067\n",
      "Mean of the items in the array: 99.3529411764706\n",
      "25th percentile of the array: 87.50\n",
      "75th percentile of the array: 108\n",
      "Median of the array: 103\n"
     ]
    }
   ],
   "source": [
    "arr = np.array([105, 129, 87, 86, 111, 111, 89, 81, 108, 92, 110, 100, 75, 105, 103, 109, 76, 119, \n",
    "        99, 91, 103, 129,106, 101, 84, 111, 74, 87, 86, 103, 103, 106, 86, 111, 75, 87, 102, \n",
    "        121, 111, 88, 89, 101, 106, 95, 103, 107, 101, 81, 111, 109, 104])\n",
    "print('Maximum of the array:',arr.max())\n",
    "print('Minimum of the array:',arr.min())\n",
    "print('Sum of the items in the array:', arr.sum())\n",
    "print('Mean of the items in the array:', arr.mean())\n",
    "#Quantiles are lines that divide data points into equal groups.\n",
    "#Percentailes are quantiles that divide the data into 100 equal groups.\n",
    "\n",
    "print('25th percentile of the array: %.2f' % (np.percentile(arr,25)))\n",
    "print('75th percentile of the array: %i' % np.quantile(arr,0.75))\n",
    "print('Median of the array: %i' % np.quantile(arr,0.5))"
   ]
  },
  {
   "cell_type": "code",
   "execution_count": 28,
   "metadata": {},
   "outputs": [
    {
     "data": {
      "text/plain": [
       "array([[-2,  3, -1],\n",
       "       [ 0, -3,  5]])"
      ]
     },
     "execution_count": 28,
     "metadata": {},
     "output_type": "execute_result"
    }
   ],
   "source": [
    "arr2 = np.array([[-2,3,-1],[0,-3,5]])\n",
    "arr2"
   ]
  },
  {
   "cell_type": "code",
   "execution_count": 32,
   "metadata": {},
   "outputs": [
    {
     "name": "stdout",
     "output_type": "stream",
     "text": [
      "Maximum of the array: [0 3 5]\n",
      "Minimum of the array: [-2 -3]\n",
      "Sum of the items in the columns [-2  0  4]\n",
      "Mean of the items in the rows [0.         0.66666667]\n"
     ]
    }
   ],
   "source": [
    "arr2 = np.array([[-2,3,-1],[0,-3,5]])\n",
    "print('Maximum of the array:',arr2.max(axis=0)) #axis=0 is the vertical axis. it find the max in every column\n",
    "print('Minimum of the array:',arr2.min(axis=1)) #axis=1 is the vertical axis. it finds the min in every row.\n",
    "print('Sum of the items in the columns', arr2.sum(axis=0))\n",
    "print('Mean of the items in the rows', arr2.mean(axis=1))"
   ]
  },
  {
   "cell_type": "markdown",
   "metadata": {},
   "source": [
    "### Basic Linear Algebra Operations"
   ]
  },
  {
   "cell_type": "code",
   "execution_count": 33,
   "metadata": {},
   "outputs": [
    {
     "name": "stdout",
     "output_type": "stream",
     "text": [
      "[[ 2  0]\n",
      " [ 3  2]\n",
      " [-1 -4]]\n",
      "[[ 2  0]\n",
      " [ 3  2]\n",
      " [-1 -4]]\n"
     ]
    }
   ],
   "source": [
    "#transpose of a marix\n",
    "A = np.array([[2,3,-1],[0,2,-4]])\n",
    "print(A.T)\n",
    "np.array()\n",
    "print(np.transpose(A))"
   ]
  },
  {
   "cell_type": "code",
   "execution_count": 37,
   "metadata": {},
   "outputs": [
    {
     "name": "stdout",
     "output_type": "stream",
     "text": [
      "7.3484692283495345\n",
      "29\n"
     ]
    },
    {
     "ename": "TypeError",
     "evalue": "_isin_dispatcher() missing 1 required positional argument: 'test_elements'",
     "output_type": "error",
     "traceback": [
      "\u001b[1;31m---------------------------------------------------------------------------\u001b[0m",
      "\u001b[1;31mTypeError\u001b[0m                                 Traceback (most recent call last)",
      "\u001b[1;32m<ipython-input-37-37f505abec03>\u001b[0m in \u001b[0;36m<module>\u001b[1;34m\u001b[0m\n\u001b[0;32m      5\u001b[0m \u001b[0mprint\u001b[0m\u001b[1;33m(\u001b[0m\u001b[0mnp\u001b[0m\u001b[1;33m.\u001b[0m\u001b[0msqrt\u001b[0m\u001b[1;33m(\u001b[0m\u001b[0mu\u001b[0m\u001b[1;33m.\u001b[0m\u001b[0mdot\u001b[0m\u001b[1;33m(\u001b[0m\u001b[0mu\u001b[0m\u001b[1;33m)\u001b[0m\u001b[1;33m)\u001b[0m\u001b[1;33m)\u001b[0m\u001b[1;31m#method on an array\u001b[0m\u001b[1;33m\u001b[0m\u001b[1;33m\u001b[0m\u001b[0m\n\u001b[0;32m      6\u001b[0m \u001b[0mprint\u001b[0m\u001b[1;33m(\u001b[0m\u001b[0mnp\u001b[0m\u001b[1;33m.\u001b[0m\u001b[0mdot\u001b[0m\u001b[1;33m(\u001b[0m\u001b[0mu\u001b[0m\u001b[1;33m,\u001b[0m\u001b[0mv\u001b[0m\u001b[1;33m)\u001b[0m\u001b[1;33m)\u001b[0m\u001b[1;31m#function on two arrays\u001b[0m\u001b[1;33m\u001b[0m\u001b[1;33m\u001b[0m\u001b[0m\n\u001b[1;32m----> 7\u001b[1;33m \u001b[0mnp\u001b[0m\u001b[1;33m.\u001b[0m\u001b[0misin\u001b[0m\u001b[1;33m(\u001b[0m\u001b[1;33m[\u001b[0m\u001b[1;33m[\u001b[0m\u001b[1;36m2\u001b[0m\u001b[1;33m,\u001b[0m\u001b[1;36m2\u001b[0m\u001b[1;33m]\u001b[0m\u001b[1;33m,\u001b[0m\u001b[1;33m[\u001b[0m\u001b[1;36m2\u001b[0m\u001b[1;33m,\u001b[0m\u001b[1;36m2\u001b[0m\u001b[1;33m]\u001b[0m\u001b[1;33m]\u001b[0m\u001b[1;33m)\u001b[0m\u001b[1;33m\u001b[0m\u001b[1;33m\u001b[0m\u001b[0m\n\u001b[0m",
      "\u001b[1;32m<__array_function__ internals>\u001b[0m in \u001b[0;36misin\u001b[1;34m(*args, **kwargs)\u001b[0m\n",
      "\u001b[1;31mTypeError\u001b[0m: _isin_dispatcher() missing 1 required positional argument: 'test_elements'"
     ]
    }
   ],
   "source": [
    "#dot (scalar) product\n",
    "u = np.array([2,3,4,5])\n",
    "v= np.array([-2,3,1,4])\n",
    "\n",
    "print(np.sqrt(u.dot(u)))#method on an array\n",
    "print(np.dot(u,v))#function on two arrays\n",
    "np.isin([[2,2],[2,2]])"
   ]
  },
  {
   "cell_type": "code",
   "execution_count": 38,
   "metadata": {},
   "outputs": [
    {
     "name": "stdout",
     "output_type": "stream",
     "text": [
      "Using np.dot:\n",
      "[[-12   2   4   2]\n",
      " [-20  -2  -8   6]]\n",
      "Using np.matmul:\n",
      "[[-12   2   4   2]\n",
      " [-20  -2  -8   6]]\n"
     ]
    }
   ],
   "source": [
    "#matrix product\n",
    "A = np.array([[2,3,-1],[0,2,-4]])\n",
    "B = np.array([[-1,0,3,4],[-2,1,0,-3],[4,1,2,-3]])\n",
    "print('Using np.dot:')\n",
    "print(np.dot(A,B))\n",
    "print('Using np.matmul:')\n",
    "print(np.matmul(A,B))\n",
    "#The difference between the two functions is visible for the products of higher dimensional arrays."
   ]
  },
  {
   "cell_type": "markdown",
   "metadata": {},
   "source": [
    "### Saving, Loading Numpy Objects\n",
    "1. np.save() or np.savetxt functions are used to save numpy arrays as files."
   ]
  },
  {
   "cell_type": "code",
   "execution_count": null,
   "metadata": {},
   "outputs": [],
   "source": [
    "arr = np.array([[-1,0,3,4],[-2,1,0,-3],[4,1,2,-3]])\n",
    "#np.save('my_matrix', arr) # saves it to the working directory as my_matrix.npy\n",
    "np.savetxt('C:\\\\Users\\\\atatar\\\\OneDrive\\\\T201\\\\my_matrix.csv',arr)# saves it to the directory C:\\\\Users\\\\atatar\\\\OneDrive\\\\T201\\\\ as my_matrix.csv\n",
    "np.savetxt('C:\\\\Users\\\\atatar\\\\OneDrive\\\\T201\\\\my_matrix.txt',arr)# saves it to the directory C:\\\\Users\\\\atatar\\\\OneDrive\\\\T201\\\\ as my_matrix.txt"
   ]
  },
  {
   "cell_type": "markdown",
   "metadata": {},
   "source": [
    "2. np.load() or np.loadtxt() can be used to load npy, csv, txt files to your work enviroment"
   ]
  },
  {
   "cell_type": "code",
   "execution_count": null,
   "metadata": {},
   "outputs": [],
   "source": [
    "x = np.load('my_matrix.npy')"
   ]
  },
  {
   "cell_type": "code",
   "execution_count": null,
   "metadata": {},
   "outputs": [],
   "source": [
    "x"
   ]
  },
  {
   "cell_type": "code",
   "execution_count": null,
   "metadata": {},
   "outputs": [],
   "source": [
    "A = np.loadtxt('C:\\\\Users\\\\atatar\\\\OneDrive\\\\T201\\\\my_matrix.csv')\n",
    "A[0,:]"
   ]
  },
  {
   "cell_type": "markdown",
   "metadata": {},
   "source": [
    "## Random numbers, vectors, and matrices\n",
    "There are two ways to deal with random numbers: 1) using Python's built-in library random (https://docs.python.org/3/library/random.html), or 2) numpy's random class (https://docs.scipy.org/doc/numpy-1.14.0/reference/routines.random.html)\n",
    "\n",
    "**1. Random Module of Python**\n",
    "Python's random module is not loaded when Python is loaded. It has to be imported separately."
   ]
  },
  {
   "cell_type": "code",
   "execution_count": null,
   "metadata": {},
   "outputs": [],
   "source": [
    "import random"
   ]
  },
  {
   "cell_type": "code",
   "execution_count": null,
   "metadata": {},
   "outputs": [],
   "source": [
    "print(random.random())#a random number bewtween 0 and 1\n",
    "print(random.uniform(1,10))#a random number bewtween 1 and 10\n",
    "print(random.randint(1,100)) # a random integer between 1 and 100"
   ]
  },
  {
   "cell_type": "code",
   "execution_count": null,
   "metadata": {},
   "outputs": [],
   "source": [
    "l=[i**2 for i in range(2,10)]\n",
    "print('Original List:',l)\n",
    "print('Shuffled List:',random.sample(l,len(l)))#shuffle the whole list\n",
    "print('Select randomly 5 elements:', random.sample(l,5))#selects randomly 5 items without replacement fromthe list l\n",
    "print('Select randomly 10 integers less than 10000',random.sample(range(10000),10))#selects randomly 10 elements withour replacement from a range aobject"
   ]
  },
  {
   "cell_type": "code",
   "execution_count": null,
   "metadata": {},
   "outputs": [],
   "source": [
    "print(random.choice([i**0.5 for i in range(100)]))"
   ]
  },
  {
   "cell_type": "markdown",
   "metadata": {},
   "source": [
    "**2. Numpy Random Module** (https://docs.scipy.org/doc/numpy-1.14.0/reference/routines.random.html)\n",
    "\n",
    "This will help us to take the random built-in library of Python to the next level and define random matrices or in general random high dimensional arrays."
   ]
  },
  {
   "cell_type": "code",
   "execution_count": null,
   "metadata": {},
   "outputs": [],
   "source": [
    "print(np.random.random()) # a random number between 0 and 1\n",
    "print(np.random.rand(3,4)) # a random matrix of size 3 by 4 with entries selected from a uniform distribution on [0,1) \n",
    "print(np.random.random((3,4))) # a random matrix of size 3 by 4 with entries selected from a uniform distribution on [0,1) "
   ]
  },
  {
   "cell_type": "code",
   "execution_count": null,
   "metadata": {},
   "outputs": [],
   "source": [
    "#understanding the uniform distribution (values are spread evenly in the interval [0,1)\n",
    "uni100 = np.random.random((10,10)).reshape(100,-1)\n",
    "uni1000 = np.random.random((10,100)).reshape(1000,-1)"
   ]
  },
  {
   "cell_type": "code",
   "execution_count": null,
   "metadata": {},
   "outputs": [],
   "source": [
    "#understanding the normal distribution\n",
    "nor = np.random.normal(size=100)\n",
    "nor100 = np.random.normal(size=(10,10)).reshape(100,-1)\n",
    "nor1000 = np.random.normal(size=(10,100)).reshape(1000,-1)\n",
    "nor10000 = np.random.normal(1,2,size=(100,100)).reshape(10000,-1)"
   ]
  },
  {
   "cell_type": "code",
   "execution_count": null,
   "metadata": {},
   "outputs": [],
   "source": []
  },
  {
   "cell_type": "code",
   "execution_count": null,
   "metadata": {},
   "outputs": [],
   "source": []
  },
  {
   "cell_type": "markdown",
   "metadata": {},
   "source": [
    "## MatplotLib \n",
    "(https://matplotlib.org/tutorials/introductory/usage.html#sphx-glr-tutorials-introductory-usage-py) \n",
    "\n",
    "Matplotlib is a built-in visualisation library of Python."
   ]
  },
  {
   "cell_type": "code",
   "execution_count": 2,
   "metadata": {},
   "outputs": [],
   "source": [
    "%matplotlib inline\n",
    "import matplotlib\n",
    "import seaborn as sns\n",
    "sns.set()"
   ]
  },
  {
   "cell_type": "code",
   "execution_count": 3,
   "metadata": {},
   "outputs": [],
   "source": [
    "import matplotlib.pyplot as plt"
   ]
  },
  {
   "cell_type": "code",
   "execution_count": 4,
   "metadata": {},
   "outputs": [
    {
     "data": {
      "text/plain": [
       "[<matplotlib.lines.Line2D at 0x1b6d626c550>]"
      ]
     },
     "execution_count": 4,
     "metadata": {},
     "output_type": "execute_result"
    },
    {
     "data": {
      "image/png": "[encoded data removed]",
      "text/plain": [
       "<Figure size 432x288 with 1 Axes>"
      ]
     },
     "metadata": {},
     "output_type": "display_data"
    }
   ],
   "source": [
    "#1 figure, 1 axes\n",
    "fig, ax = plt.subplots()  # Create a figure containing a single axes.\n",
    "ax.plot([1, 2, 3, 4], [1, 4, 2, 3])  # Plot some data on the axes."
   ]
  },
  {
   "cell_type": "code",
   "execution_count": 5,
   "metadata": {},
   "outputs": [
    {
     "data": {
      "text/plain": [
       "Text(0.5, 0, 'Time')"
      ]
     },
     "execution_count": 5,
     "metadata": {},
     "output_type": "execute_result"
    },
    {
     "data": {
      "image/png": "[encoded data removed]",
      "text/plain": [
       "<Figure size 576x576 with 2 Axes>"
      ]
     },
     "metadata": {},
     "output_type": "display_data"
    }
   ],
   "source": [
    "# 1 figure, 2 axes\n",
    "fig,(ax1,ax2) = plt.subplots(2,1,figsize=(8,8),sharex=True)\n",
    "ax1.plot([1, 2, 3, 4], [1, 4, 2, 3],color='red',marker='o')\n",
    "ax2.plot([1, 2, 3, 4],[2,1,-5,10],color='blue',marker='*')\n",
    "ax1.set_title('Red Plot',color='red',fontsize=14)\n",
    "ax2.set_title('Blue Plot')\n",
    "ax1.set_xlabel('Time')"
   ]
  },
  {
   "cell_type": "code",
   "execution_count": 6,
   "metadata": {},
   "outputs": [
    {
     "data": {
      "text/plain": [
       "<matplotlib.legend.Legend at 0x1b6d64e9310>"
      ]
     },
     "execution_count": 6,
     "metadata": {},
     "output_type": "execute_result"
    },
    {
     "data": {
      "image/png": "[encoded data removed]",
      "text/plain": [
       "<Figure size 1152x576 with 1 Axes>"
      ]
     },
     "metadata": {},
     "output_type": "display_data"
    }
   ],
   "source": [
    "# 1figure, 1 axes, 2 plots\n",
    "fig,ax = plt.subplots(figsize=(16,8))\n",
    "ax.plot([1, 2, 3, 4], [1, 4, 2, 3],color='red',marker='o',label='Red Plot')\n",
    "ax.plot([1, 2, 3, 4],[2,1,-5,10],color='blue',marker='*',label='Blue Plot')\n",
    "ax.set_title('Two Plots')\n",
    "ax.set_xlabel('Time')\n",
    "ax.set_ylabel(\"Temp.\")\n",
    "ax.legend()"
   ]
  },
  {
   "cell_type": "markdown",
   "metadata": {},
   "source": [
    "Pyplot allows you to do the above with less coding."
   ]
  },
  {
   "cell_type": "code",
   "execution_count": 7,
   "metadata": {},
   "outputs": [
    {
     "data": {
      "text/plain": [
       "<matplotlib.legend.Legend at 0x1b6d680a8e0>"
      ]
     },
     "execution_count": 7,
     "metadata": {},
     "output_type": "execute_result"
    },
    {
     "data": {
      "image/png": "[encoded data removed]",
      "text/plain": [
       "<Figure size 1152x432 with 1 Axes>"
      ]
     },
     "metadata": {},
     "output_type": "display_data"
    }
   ],
   "source": [
    "#general syntax of pyplot()\n",
    "plt.figure(figsize=(16,6))\n",
    "plt.plot([1, 2, 3, 4], [1, 4, 2, 3],color='red',marker='o',label='Red Plot')\n",
    "plt.plot([1, 2, 3, 4],[2,1,-5,10],color='blue',marker='*',label='Blue Plot')\n",
    "plt.xlabel('Time')\n",
    "plt.ylabel('Temp')\n",
    "plt.title('Two Plots')\n",
    "plt.legend()"
   ]
  },
  {
   "cell_type": "code",
   "execution_count": 8,
   "metadata": {},
   "outputs": [
    {
     "data": {
      "image/png": "[encoded data removed]",
      "text/plain": [
       "<Figure size 864x432 with 1 Axes>"
      ]
     },
     "metadata": {},
     "output_type": "display_data"
    }
   ],
   "source": [
    "#scatter plot\n",
    "x=[1,-3,2]\n",
    "y=[1,2,3]\n",
    "x1=[3,-4,9]\n",
    "y1=[2,1,-5]\n",
    "plt.figure(figsize=(12,6))\n",
    "plt.scatter(x,y,label='1st line',color='red')\n",
    "plt.scatter(x1,y1,label='2nd line',color='blue')\n",
    "plt.xlabel('Time')\n",
    "plt.ylabel('Centrality')\n",
    "plt.title('My Python Scatter Plot')\n",
    "plt.legend()\n",
    "plt.show()"
   ]
  },
  {
   "cell_type": "code",
   "execution_count": 11,
   "metadata": {},
   "outputs": [
    {
     "data": {
      "image/png": "[encoded data removed]",
      "text/plain": [
       "<Figure size 864x576 with 1 Axes>"
      ]
     },
     "metadata": {},
     "output_type": "display_data"
    }
   ],
   "source": [
    "#histograms to understand the distribution\n",
    "uni100 = np.random.uniform(size=100)\n",
    "#uni1000 = np.random.uniform(size=1000)\n",
    "#uni10000 = np.random.uniform(size=10000)\n",
    "plt.figure(figsize=(12,8))\n",
    "plt.hist(uni100,bins=10,label='100 points',color='r',density=True)\n",
    "sns.kdeplot(uni100)\n",
    "#plt.hist(uni1000,bins=10,label='10000 points',color='b')\n",
    "plt.legend()\n",
    "plt.show()"
   ]
  },
  {
   "cell_type": "code",
   "execution_count": 12,
   "metadata": {},
   "outputs": [
    {
     "data": {
      "image/png": "[encoded data removed]",
      "text/plain": [
       "<Figure size 432x288 with 1 Axes>"
      ]
     },
     "metadata": {},
     "output_type": "display_data"
    }
   ],
   "source": [
    "#understanding the normal distribution\n",
    "nor = np.random.normal(size=100)\n",
    "nor100 = np.random.normal(size=100)\n",
    "nor1000 = np.random.normal(size=1000)\n",
    "nor10000 = np.random.normal(size=10000)\n",
    "#plt.figure(figsize=(12,8))\n",
    "#plt.hist(nor100,bins=10,label='100 points',color='r')\n",
    "#plt.hist(nor1000,bins=10,label='10000 points',color='b')\n",
    "plt.hist(nor10000,bins=100,label='100000 points',color='g',density=True)\n",
    "sns.kdeplot(nor10000)\n",
    "plt.legend()\n",
    "plt.show()"
   ]
  },
  {
   "cell_type": "markdown",
   "metadata": {},
   "source": [
    "## Pandas\n",
    "Pandas is a python library that provides data structures and functions for working with structured data primarily tabular data.\n",
    "\n",
    "Pandas Series: 1D array-like object, data is represented in many rows but one column.\n",
    "\n",
    "Pandas Dataframe: 2D array-like object, data is represented like a table as in rows and columns."
   ]
  },
  {
   "cell_type": "code",
   "execution_count": 13,
   "metadata": {},
   "outputs": [],
   "source": [
    "import pandas as pd"
   ]
  },
  {
   "cell_type": "code",
   "execution_count": 14,
   "metadata": {},
   "outputs": [
    {
     "data": {
      "text/plain": [
       "0    0.781695\n",
       "1    0.240449\n",
       "2    0.543174\n",
       "3    0.538962\n",
       "4    0.569237\n",
       "5    0.797393\n",
       "6    0.394008\n",
       "7    0.230475\n",
       "8    0.488172\n",
       "9    0.177872\n",
       "dtype: float64"
      ]
     },
     "execution_count": 14,
     "metadata": {},
     "output_type": "execute_result"
    }
   ],
   "source": [
    "#creating Data Series and Data Frames\n",
    "series = pd.Series(np.random.random(10))\n",
    "series"
   ]
  },
  {
   "cell_type": "code",
   "execution_count": 15,
   "metadata": {},
   "outputs": [
    {
     "data": {
      "text/html": [
       "<div>\n",
       "<style scoped>\n",
       "    .dataframe tbody tr th:only-of-type {\n",
       "        vertical-align: middle;\n",
       "    }\n",
       "\n",
       "    .dataframe tbody tr th {\n",
       "        vertical-align: top;\n",
       "    }\n",
       "\n",
       "    .dataframe thead th {\n",
       "        text-align: right;\n",
       "    }\n",
       "</style>\n",
       "<table border=\"1\" class=\"dataframe\">\n",
       "  <thead>\n",
       "    <tr style=\"text-align: right;\">\n",
       "      <th></th>\n",
       "      <th>Uniform</th>\n",
       "      <th>Normal</th>\n",
       "    </tr>\n",
       "  </thead>\n",
       "  <tbody>\n",
       "    <tr>\n",
       "      <th>0</th>\n",
       "      <td>1.064881</td>\n",
       "      <td>2.123664</td>\n",
       "    </tr>\n",
       "    <tr>\n",
       "      <th>1</th>\n",
       "      <td>1.014683</td>\n",
       "      <td>1.313247</td>\n",
       "    </tr>\n",
       "    <tr>\n",
       "      <th>2</th>\n",
       "      <td>4.666391</td>\n",
       "      <td>2.432703</td>\n",
       "    </tr>\n",
       "    <tr>\n",
       "      <th>3</th>\n",
       "      <td>4.855182</td>\n",
       "      <td>1.010092</td>\n",
       "    </tr>\n",
       "    <tr>\n",
       "      <th>4</th>\n",
       "      <td>2.946338</td>\n",
       "      <td>2.352036</td>\n",
       "    </tr>\n",
       "  </tbody>\n",
       "</table>\n",
       "</div>"
      ],
      "text/plain": [
       "    Uniform    Normal\n",
       "0  1.064881  2.123664\n",
       "1  1.014683  1.313247\n",
       "2  4.666391  2.432703\n",
       "3  4.855182  1.010092\n",
       "4  2.946338  2.352036"
      ]
     },
     "execution_count": 15,
     "metadata": {},
     "output_type": "execute_result"
    }
   ],
   "source": [
    "#creating Data Frames\n",
    "df_dc = pd.DataFrame({'Uniform':np.random.uniform(1,10,100),'Normal':np.random.normal(2,1,100)})\n",
    "df_dc.head()#shows by default the first 5 items"
   ]
  },
  {
   "cell_type": "code",
   "execution_count": 16,
   "metadata": {},
   "outputs": [
    {
     "data": {
      "text/html": [
       "<div>\n",
       "<style scoped>\n",
       "    .dataframe tbody tr th:only-of-type {\n",
       "        vertical-align: middle;\n",
       "    }\n",
       "\n",
       "    .dataframe tbody tr th {\n",
       "        vertical-align: top;\n",
       "    }\n",
       "\n",
       "    .dataframe thead th {\n",
       "        text-align: right;\n",
       "    }\n",
       "</style>\n",
       "<table border=\"1\" class=\"dataframe\">\n",
       "  <thead>\n",
       "    <tr style=\"text-align: right;\">\n",
       "      <th></th>\n",
       "      <th>A</th>\n",
       "      <th>B</th>\n",
       "    </tr>\n",
       "  </thead>\n",
       "  <tbody>\n",
       "    <tr>\n",
       "      <th>96</th>\n",
       "      <td>-0.927934</td>\n",
       "      <td>-0.400834</td>\n",
       "    </tr>\n",
       "    <tr>\n",
       "      <th>97</th>\n",
       "      <td>-0.183232</td>\n",
       "      <td>-0.493277</td>\n",
       "    </tr>\n",
       "    <tr>\n",
       "      <th>98</th>\n",
       "      <td>1.181059</td>\n",
       "      <td>-0.429489</td>\n",
       "    </tr>\n",
       "    <tr>\n",
       "      <th>99</th>\n",
       "      <td>0.258696</td>\n",
       "      <td>-0.602637</td>\n",
       "    </tr>\n",
       "    <tr>\n",
       "      <th>100</th>\n",
       "      <td>-1.694931</td>\n",
       "      <td>-2.428146</td>\n",
       "    </tr>\n",
       "  </tbody>\n",
       "</table>\n",
       "</div>"
      ],
      "text/plain": [
       "            A         B\n",
       "96  -0.927934 -0.400834\n",
       "97  -0.183232 -0.493277\n",
       "98   1.181059 -0.429489\n",
       "99   0.258696 -0.602637\n",
       "100 -1.694931 -2.428146"
      ]
     },
     "execution_count": 16,
     "metadata": {},
     "output_type": "execute_result"
    }
   ],
   "source": [
    "#creating DataFrames from arrays\n",
    "arr = np.random.normal(size=(100,2))\n",
    "df_arr = pd.DataFrame(arr,columns = ['A','B'], index=range(1,101))\n",
    "df_arr.tail()#shows by default the last five items\n"
   ]
  },
  {
   "cell_type": "code",
   "execution_count": null,
   "metadata": {},
   "outputs": [],
   "source": [
    "#saving dataframe as csv file\n",
    "df_dc.to_csv('datasets\\\\df_arr.csv')"
   ]
  },
  {
   "cell_type": "code",
   "execution_count": null,
   "metadata": {},
   "outputs": [],
   "source": [
    "df_dc"
   ]
  },
  {
   "cell_type": "code",
   "execution_count": null,
   "metadata": {},
   "outputs": [],
   "source": [
    "df_dc.values"
   ]
  },
  {
   "cell_type": "code",
   "execution_count": 17,
   "metadata": {},
   "outputs": [
    {
     "name": "stdout",
     "output_type": "stream",
     "text": [
      "IRIS\n"
     ]
    },
    {
     "data": {
      "text/html": [
       "<div>\n",
       "<style scoped>\n",
       "    .dataframe tbody tr th:only-of-type {\n",
       "        vertical-align: middle;\n",
       "    }\n",
       "\n",
       "    .dataframe tbody tr th {\n",
       "        vertical-align: top;\n",
       "    }\n",
       "\n",
       "    .dataframe thead th {\n",
       "        text-align: right;\n",
       "    }\n",
       "</style>\n",
       "<table border=\"1\" class=\"dataframe\">\n",
       "  <thead>\n",
       "    <tr style=\"text-align: right;\">\n",
       "      <th></th>\n",
       "      <th>sepal.length</th>\n",
       "      <th>sepal.width</th>\n",
       "      <th>petal.length</th>\n",
       "      <th>petal.width</th>\n",
       "      <th>variety</th>\n",
       "    </tr>\n",
       "  </thead>\n",
       "  <tbody>\n",
       "    <tr>\n",
       "      <th>0</th>\n",
       "      <td>5.1</td>\n",
       "      <td>3.5</td>\n",
       "      <td>1.4</td>\n",
       "      <td>0.2</td>\n",
       "      <td>Setosa</td>\n",
       "    </tr>\n",
       "    <tr>\n",
       "      <th>1</th>\n",
       "      <td>4.9</td>\n",
       "      <td>3.0</td>\n",
       "      <td>1.4</td>\n",
       "      <td>0.2</td>\n",
       "      <td>Setosa</td>\n",
       "    </tr>\n",
       "    <tr>\n",
       "      <th>2</th>\n",
       "      <td>4.7</td>\n",
       "      <td>3.2</td>\n",
       "      <td>1.3</td>\n",
       "      <td>0.2</td>\n",
       "      <td>Setosa</td>\n",
       "    </tr>\n",
       "  </tbody>\n",
       "</table>\n",
       "</div>"
      ],
      "text/plain": [
       "   sepal.length  sepal.width  petal.length  petal.width variety\n",
       "0           5.1          3.5           1.4          0.2  Setosa\n",
       "1           4.9          3.0           1.4          0.2  Setosa\n",
       "2           4.7          3.2           1.3          0.2  Setosa"
      ]
     },
     "execution_count": 17,
     "metadata": {},
     "output_type": "execute_result"
    }
   ],
   "source": [
    "# loading dataframes from files\n",
    "df_iris = pd.read_csv('iris.csv')\n",
    "#df_diabetes = pd.read_excel('datasets\\\\diabetes.xlsx')\n",
    "\n",
    "print('IRIS')\n",
    "df_iris.head(3)"
   ]
  },
  {
   "cell_type": "code",
   "execution_count": 18,
   "metadata": {},
   "outputs": [
    {
     "name": "stdout",
     "output_type": "stream",
     "text": [
      "DIABETES\n"
     ]
    },
    {
     "ename": "NameError",
     "evalue": "name 'df_diabetes' is not defined",
     "output_type": "error",
     "traceback": [
      "\u001b[1;31m---------------------------------------------------------------------------\u001b[0m",
      "\u001b[1;31mNameError\u001b[0m                                 Traceback (most recent call last)",
      "\u001b[1;32m<ipython-input-18-46e089273e1e>\u001b[0m in \u001b[0;36m<module>\u001b[1;34m\u001b[0m\n\u001b[0;32m      1\u001b[0m \u001b[0mprint\u001b[0m\u001b[1;33m(\u001b[0m\u001b[1;34m'DIABETES'\u001b[0m\u001b[1;33m)\u001b[0m\u001b[1;33m\u001b[0m\u001b[1;33m\u001b[0m\u001b[0m\n\u001b[1;32m----> 2\u001b[1;33m \u001b[0mdf_diabetes\u001b[0m\u001b[1;33m.\u001b[0m\u001b[0mtail\u001b[0m\u001b[1;33m(\u001b[0m\u001b[1;36m3\u001b[0m\u001b[1;33m)\u001b[0m\u001b[1;33m\u001b[0m\u001b[1;33m\u001b[0m\u001b[0m\n\u001b[0m",
      "\u001b[1;31mNameError\u001b[0m: name 'df_diabetes' is not defined"
     ]
    }
   ],
   "source": [
    "print('DIABETES')\n",
    "df_diabetes.tail(3)"
   ]
  },
  {
   "cell_type": "code",
   "execution_count": 44,
   "metadata": {},
   "outputs": [
    {
     "name": "stdout",
     "output_type": "stream",
     "text": [
      "694885960748719\n"
     ]
    }
   ],
   "source": [
    "print (int('10101010101110010101010101010101' , base = 3))"
   ]
  },
  {
   "cell_type": "code",
   "execution_count": 19,
   "metadata": {},
   "outputs": [
    {
     "name": "stdout",
     "output_type": "stream",
     "text": [
      "\n"
     ]
    }
   ],
   "source": [
    "import numpy as np\n",
    "\n",
    "np.random.seed(0)\n",
    "\n",
    "A = np.random.normal(size=(100,25))\n",
    "\n",
    "B = np.random.normal(size=(25,50))\n",
    "\n",
    "print ( )"
   ]
  },
  {
   "cell_type": "markdown",
   "metadata": {},
   "source": [
    "Given that we have loaded our data, we still need to have control over the data. The next lines we discuss how to: Check attribute of our data/Dataframe\n",
    "\n",
    "dtypes, columns, axes, ndim, size, shape, values"
   ]
  },
  {
   "cell_type": "code",
   "execution_count": 20,
   "metadata": {},
   "outputs": [
    {
     "name": "stdout",
     "output_type": "stream",
     "text": [
      "IRIS Columns: Index(['sepal.length', 'sepal.width', 'petal.length', 'petal.width',\n",
      "       'variety'],\n",
      "      dtype='object')\n",
      "IRIS Shape: (150, 5)\n",
      "IRIS Values: [[5.1 3.5 1.4 0.2 'Setosa']\n",
      " [4.9 3.0 1.4 0.2 'Setosa']\n",
      " [4.7 3.2 1.3 0.2 'Setosa']\n",
      " [4.6 3.1 1.5 0.2 'Setosa']\n",
      " [5.0 3.6 1.4 0.2 'Setosa']\n",
      " [5.4 3.9 1.7 0.4 'Setosa']\n",
      " [4.6 3.4 1.4 0.3 'Setosa']\n",
      " [5.0 3.4 1.5 0.2 'Setosa']\n",
      " [4.4 2.9 1.4 0.2 'Setosa']\n",
      " [4.9 3.1 1.5 0.1 'Setosa']\n",
      " [5.4 3.7 1.5 0.2 'Setosa']\n",
      " [4.8 3.4 1.6 0.2 'Setosa']\n",
      " [4.8 3.0 1.4 0.1 'Setosa']\n",
      " [4.3 3.0 1.1 0.1 'Setosa']\n",
      " [5.8 4.0 1.2 0.2 'Setosa']\n",
      " [5.7 4.4 1.5 0.4 'Setosa']\n",
      " [5.4 3.9 1.3 0.4 'Setosa']\n",
      " [5.1 3.5 1.4 0.3 'Setosa']\n",
      " [5.7 3.8 1.7 0.3 'Setosa']\n",
      " [5.1 3.8 1.5 0.3 'Setosa']\n",
      " [5.4 3.4 1.7 0.2 'Setosa']\n",
      " [5.1 3.7 1.5 0.4 'Setosa']\n",
      " [4.6 3.6 1.0 0.2 'Setosa']\n",
      " [5.1 3.3 1.7 0.5 'Setosa']\n",
      " [4.8 3.4 1.9 0.2 'Setosa']\n",
      " [5.0 3.0 1.6 0.2 'Setosa']\n",
      " [5.0 3.4 1.6 0.4 'Setosa']\n",
      " [5.2 3.5 1.5 0.2 'Setosa']\n",
      " [5.2 3.4 1.4 0.2 'Setosa']\n",
      " [4.7 3.2 1.6 0.2 'Setosa']\n",
      " [4.8 3.1 1.6 0.2 'Setosa']\n",
      " [5.4 3.4 1.5 0.4 'Setosa']\n",
      " [5.2 4.1 1.5 0.1 'Setosa']\n",
      " [5.5 4.2 1.4 0.2 'Setosa']\n",
      " [4.9 3.1 1.5 0.2 'Setosa']\n",
      " [5.0 3.2 1.2 0.2 'Setosa']\n",
      " [5.5 3.5 1.3 0.2 'Setosa']\n",
      " [4.9 3.6 1.4 0.1 'Setosa']\n",
      " [4.4 3.0 1.3 0.2 'Setosa']\n",
      " [5.1 3.4 1.5 0.2 'Setosa']\n",
      " [5.0 3.5 1.3 0.3 'Setosa']\n",
      " [4.5 2.3 1.3 0.3 'Setosa']\n",
      " [4.4 3.2 1.3 0.2 'Setosa']\n",
      " [5.0 3.5 1.6 0.6 'Setosa']\n",
      " [5.1 3.8 1.9 0.4 'Setosa']\n",
      " [4.8 3.0 1.4 0.3 'Setosa']\n",
      " [5.1 3.8 1.6 0.2 'Setosa']\n",
      " [4.6 3.2 1.4 0.2 'Setosa']\n",
      " [5.3 3.7 1.5 0.2 'Setosa']\n",
      " [5.0 3.3 1.4 0.2 'Setosa']\n",
      " [7.0 3.2 4.7 1.4 'Versicolor']\n",
      " [6.4 3.2 4.5 1.5 'Versicolor']\n",
      " [6.9 3.1 4.9 1.5 'Versicolor']\n",
      " [5.5 2.3 4.0 1.3 'Versicolor']\n",
      " [6.5 2.8 4.6 1.5 'Versicolor']\n",
      " [5.7 2.8 4.5 1.3 'Versicolor']\n",
      " [6.3 3.3 4.7 1.6 'Versicolor']\n",
      " [4.9 2.4 3.3 1.0 'Versicolor']\n",
      " [6.6 2.9 4.6 1.3 'Versicolor']\n",
      " [5.2 2.7 3.9 1.4 'Versicolor']\n",
      " [5.0 2.0 3.5 1.0 'Versicolor']\n",
      " [5.9 3.0 4.2 1.5 'Versicolor']\n",
      " [6.0 2.2 4.0 1.0 'Versicolor']\n",
      " [6.1 2.9 4.7 1.4 'Versicolor']\n",
      " [5.6 2.9 3.6 1.3 'Versicolor']\n",
      " [6.7 3.1 4.4 1.4 'Versicolor']\n",
      " [5.6 3.0 4.5 1.5 'Versicolor']\n",
      " [5.8 2.7 4.1 1.0 'Versicolor']\n",
      " [6.2 2.2 4.5 1.5 'Versicolor']\n",
      " [5.6 2.5 3.9 1.1 'Versicolor']\n",
      " [5.9 3.2 4.8 1.8 'Versicolor']\n",
      " [6.1 2.8 4.0 1.3 'Versicolor']\n",
      " [6.3 2.5 4.9 1.5 'Versicolor']\n",
      " [6.1 2.8 4.7 1.2 'Versicolor']\n",
      " [6.4 2.9 4.3 1.3 'Versicolor']\n",
      " [6.6 3.0 4.4 1.4 'Versicolor']\n",
      " [6.8 2.8 4.8 1.4 'Versicolor']\n",
      " [6.7 3.0 5.0 1.7 'Versicolor']\n",
      " [6.0 2.9 4.5 1.5 'Versicolor']\n",
      " [5.7 2.6 3.5 1.0 'Versicolor']\n",
      " [5.5 2.4 3.8 1.1 'Versicolor']\n",
      " [5.5 2.4 3.7 1.0 'Versicolor']\n",
      " [5.8 2.7 3.9 1.2 'Versicolor']\n",
      " [6.0 2.7 5.1 1.6 'Versicolor']\n",
      " [5.4 3.0 4.5 1.5 'Versicolor']\n",
      " [6.0 3.4 4.5 1.6 'Versicolor']\n",
      " [6.7 3.1 4.7 1.5 'Versicolor']\n",
      " [6.3 2.3 4.4 1.3 'Versicolor']\n",
      " [5.6 3.0 4.1 1.3 'Versicolor']\n",
      " [5.5 2.5 4.0 1.3 'Versicolor']\n",
      " [5.5 2.6 4.4 1.2 'Versicolor']\n",
      " [6.1 3.0 4.6 1.4 'Versicolor']\n",
      " [5.8 2.6 4.0 1.2 'Versicolor']\n",
      " [5.0 2.3 3.3 1.0 'Versicolor']\n",
      " [5.6 2.7 4.2 1.3 'Versicolor']\n",
      " [5.7 3.0 4.2 1.2 'Versicolor']\n",
      " [5.7 2.9 4.2 1.3 'Versicolor']\n",
      " [6.2 2.9 4.3 1.3 'Versicolor']\n",
      " [5.1 2.5 3.0 1.1 'Versicolor']\n",
      " [5.7 2.8 4.1 1.3 'Versicolor']\n",
      " [6.3 3.3 6.0 2.5 'Virginica']\n",
      " [5.8 2.7 5.1 1.9 'Virginica']\n",
      " [7.1 3.0 5.9 2.1 'Virginica']\n",
      " [6.3 2.9 5.6 1.8 'Virginica']\n",
      " [6.5 3.0 5.8 2.2 'Virginica']\n",
      " [7.6 3.0 6.6 2.1 'Virginica']\n",
      " [4.9 2.5 4.5 1.7 'Virginica']\n",
      " [7.3 2.9 6.3 1.8 'Virginica']\n",
      " [6.7 2.5 5.8 1.8 'Virginica']\n",
      " [7.2 3.6 6.1 2.5 'Virginica']\n",
      " [6.5 3.2 5.1 2.0 'Virginica']\n",
      " [6.4 2.7 5.3 1.9 'Virginica']\n",
      " [6.8 3.0 5.5 2.1 'Virginica']\n",
      " [5.7 2.5 5.0 2.0 'Virginica']\n",
      " [5.8 2.8 5.1 2.4 'Virginica']\n",
      " [6.4 3.2 5.3 2.3 'Virginica']\n",
      " [6.5 3.0 5.5 1.8 'Virginica']\n",
      " [7.7 3.8 6.7 2.2 'Virginica']\n",
      " [7.7 2.6 6.9 2.3 'Virginica']\n",
      " [6.0 2.2 5.0 1.5 'Virginica']\n",
      " [6.9 3.2 5.7 2.3 'Virginica']\n",
      " [5.6 2.8 4.9 2.0 'Virginica']\n",
      " [7.7 2.8 6.7 2.0 'Virginica']\n",
      " [6.3 2.7 4.9 1.8 'Virginica']\n",
      " [6.7 3.3 5.7 2.1 'Virginica']\n",
      " [7.2 3.2 6.0 1.8 'Virginica']\n",
      " [6.2 2.8 4.8 1.8 'Virginica']\n",
      " [6.1 3.0 4.9 1.8 'Virginica']\n",
      " [6.4 2.8 5.6 2.1 'Virginica']\n",
      " [7.2 3.0 5.8 1.6 'Virginica']\n",
      " [7.4 2.8 6.1 1.9 'Virginica']\n",
      " [7.9 3.8 6.4 2.0 'Virginica']\n",
      " [6.4 2.8 5.6 2.2 'Virginica']\n",
      " [6.3 2.8 5.1 1.5 'Virginica']\n",
      " [6.1 2.6 5.6 1.4 'Virginica']\n",
      " [7.7 3.0 6.1 2.3 'Virginica']\n",
      " [6.3 3.4 5.6 2.4 'Virginica']\n",
      " [6.4 3.1 5.5 1.8 'Virginica']\n",
      " [6.0 3.0 4.8 1.8 'Virginica']\n",
      " [6.9 3.1 5.4 2.1 'Virginica']\n",
      " [6.7 3.1 5.6 2.4 'Virginica']\n",
      " [6.9 3.1 5.1 2.3 'Virginica']\n",
      " [5.8 2.7 5.1 1.9 'Virginica']\n",
      " [6.8 3.2 5.9 2.3 'Virginica']\n",
      " [6.7 3.3 5.7 2.5 'Virginica']\n",
      " [6.7 3.0 5.2 2.3 'Virginica']\n",
      " [6.3 2.5 5.0 1.9 'Virginica']\n",
      " [6.5 3.0 5.2 2.0 'Virginica']\n",
      " [6.2 3.4 5.4 2.3 'Virginica']\n",
      " [5.9 3.0 5.1 1.8 'Virginica']]\n"
     ]
    }
   ],
   "source": [
    "print('IRIS Columns:',df_iris.columns)\n",
    "print('IRIS Shape:' , df_iris.shape)\n",
    "print('IRIS Values:',df_iris.values)#turns the content of every index into a list\n"
   ]
  },
  {
   "cell_type": "markdown",
   "metadata": {},
   "source": [
    "We can have a general look at the DataFrames using describe(),info(),max(),min(), mean() methods."
   ]
  },
  {
   "cell_type": "code",
   "execution_count": null,
   "metadata": {},
   "outputs": [],
   "source": [
    "df_iris.info()"
   ]
  },
  {
   "cell_type": "code",
   "execution_count": 21,
   "metadata": {},
   "outputs": [
    {
     "data": {
      "text/html": [
       "<div>\n",
       "<style scoped>\n",
       "    .dataframe tbody tr th:only-of-type {\n",
       "        vertical-align: middle;\n",
       "    }\n",
       "\n",
       "    .dataframe tbody tr th {\n",
       "        vertical-align: top;\n",
       "    }\n",
       "\n",
       "    .dataframe thead th {\n",
       "        text-align: right;\n",
       "    }\n",
       "</style>\n",
       "<table border=\"1\" class=\"dataframe\">\n",
       "  <thead>\n",
       "    <tr style=\"text-align: right;\">\n",
       "      <th></th>\n",
       "      <th>sepal.length</th>\n",
       "      <th>sepal.width</th>\n",
       "      <th>petal.length</th>\n",
       "      <th>petal.width</th>\n",
       "    </tr>\n",
       "  </thead>\n",
       "  <tbody>\n",
       "    <tr>\n",
       "      <th>count</th>\n",
       "      <td>150.000000</td>\n",
       "      <td>150.000000</td>\n",
       "      <td>150.000000</td>\n",
       "      <td>150.000000</td>\n",
       "    </tr>\n",
       "    <tr>\n",
       "      <th>mean</th>\n",
       "      <td>5.843333</td>\n",
       "      <td>3.057333</td>\n",
       "      <td>3.758000</td>\n",
       "      <td>1.199333</td>\n",
       "    </tr>\n",
       "    <tr>\n",
       "      <th>std</th>\n",
       "      <td>0.828066</td>\n",
       "      <td>0.435866</td>\n",
       "      <td>1.765298</td>\n",
       "      <td>0.762238</td>\n",
       "    </tr>\n",
       "    <tr>\n",
       "      <th>min</th>\n",
       "      <td>4.300000</td>\n",
       "      <td>2.000000</td>\n",
       "      <td>1.000000</td>\n",
       "      <td>0.100000</td>\n",
       "    </tr>\n",
       "    <tr>\n",
       "      <th>25%</th>\n",
       "      <td>5.100000</td>\n",
       "      <td>2.800000</td>\n",
       "      <td>1.600000</td>\n",
       "      <td>0.300000</td>\n",
       "    </tr>\n",
       "    <tr>\n",
       "      <th>50%</th>\n",
       "      <td>5.800000</td>\n",
       "      <td>3.000000</td>\n",
       "      <td>4.350000</td>\n",
       "      <td>1.300000</td>\n",
       "    </tr>\n",
       "    <tr>\n",
       "      <th>75%</th>\n",
       "      <td>6.400000</td>\n",
       "      <td>3.300000</td>\n",
       "      <td>5.100000</td>\n",
       "      <td>1.800000</td>\n",
       "    </tr>\n",
       "    <tr>\n",
       "      <th>max</th>\n",
       "      <td>7.900000</td>\n",
       "      <td>4.400000</td>\n",
       "      <td>6.900000</td>\n",
       "      <td>2.500000</td>\n",
       "    </tr>\n",
       "  </tbody>\n",
       "</table>\n",
       "</div>"
      ],
      "text/plain": [
       "       sepal.length  sepal.width  petal.length  petal.width\n",
       "count    150.000000   150.000000    150.000000   150.000000\n",
       "mean       5.843333     3.057333      3.758000     1.199333\n",
       "std        0.828066     0.435866      1.765298     0.762238\n",
       "min        4.300000     2.000000      1.000000     0.100000\n",
       "25%        5.100000     2.800000      1.600000     0.300000\n",
       "50%        5.800000     3.000000      4.350000     1.300000\n",
       "75%        6.400000     3.300000      5.100000     1.800000\n",
       "max        7.900000     4.400000      6.900000     2.500000"
      ]
     },
     "execution_count": 21,
     "metadata": {},
     "output_type": "execute_result"
    }
   ],
   "source": [
    "df_iris.describe()# gives descriptive statistical information on numerical columns"
   ]
  },
  {
   "cell_type": "code",
   "execution_count": null,
   "metadata": {},
   "outputs": [],
   "source": [
    "df_iris.max()"
   ]
  },
  {
   "cell_type": "code",
   "execution_count": null,
   "metadata": {},
   "outputs": [],
   "source": [
    "df_iris.mean()"
   ]
  },
  {
   "cell_type": "markdown",
   "metadata": {},
   "source": [
    "**Manipulating DataFrames using columns**"
   ]
  },
  {
   "cell_type": "code",
   "execution_count": null,
   "metadata": {},
   "outputs": [],
   "source": [
    "#We can access the dataframe using column names:\n",
    "sl = df_iris['sepal.length']\n",
    "sl.head()"
   ]
  },
  {
   "cell_type": "code",
   "execution_count": null,
   "metadata": {},
   "outputs": [],
   "source": [
    "#the above returns a dataseries and we can apply the methods on them\n",
    "print('Max Sepal Length:%f'%sl.max())\n",
    "print('Sepal Length Mean:%.3f'%sl.mean())"
   ]
  },
  {
   "cell_type": "code",
   "execution_count": null,
   "metadata": {},
   "outputs": [],
   "source": [
    "#we can select multiple columns\n",
    "df_iris[['sepal.length','sepal.width']]"
   ]
  },
  {
   "cell_type": "code",
   "execution_count": null,
   "metadata": {},
   "outputs": [],
   "source": [
    "# we can use conditionals to select data\n",
    "df_iris[df_iris['petal.length']>2.5]"
   ]
  },
  {
   "cell_type": "code",
   "execution_count": null,
   "metadata": {},
   "outputs": [],
   "source": [
    "df_iris[((df_iris['petal.length']>2.5) & (df_iris['petal.width']==2.5))]"
   ]
  },
  {
   "cell_type": "markdown",
   "metadata": {},
   "source": [
    "**Manipulating DataFrames using Rows**\n",
    "\n",
    "We can control the rows of a dataframes using loc and iloc methods. If we need to select a range of rows, using their indices we can use loc method. If we need to select a range of rows and/or columns, using the location of their indices we can use the iloc method."
   ]
  },
  {
   "cell_type": "code",
   "execution_count": null,
   "metadata": {},
   "outputs": [],
   "source": [
    "df_iris.loc[:5]"
   ]
  },
  {
   "cell_type": "code",
   "execution_count": null,
   "metadata": {},
   "outputs": [],
   "source": [
    "df_iris.iloc[:5]"
   ]
  },
  {
   "cell_type": "code",
   "execution_count": null,
   "metadata": {},
   "outputs": [],
   "source": [
    "df_diabetes"
   ]
  },
  {
   "cell_type": "code",
   "execution_count": null,
   "metadata": {},
   "outputs": [],
   "source": []
  },
  {
   "cell_type": "code",
   "execution_count": null,
   "metadata": {},
   "outputs": [],
   "source": []
  },
  {
   "cell_type": "markdown",
   "metadata": {},
   "source": [
    "**Plotting with Pandas**"
   ]
  },
  {
   "cell_type": "code",
   "execution_count": null,
   "metadata": {},
   "outputs": [],
   "source": [
    "df_iris.plot(figsize=(12,6));\n",
    "plt.title('IRIS DATASET');"
   ]
  },
  {
   "cell_type": "code",
   "execution_count": null,
   "metadata": {},
   "outputs": [],
   "source": [
    "df_iris['sepal.length'].plot(kind='hist',bins=20,figsize=(12,8),title='Sepal Length Histogram')"
   ]
  },
  {
   "cell_type": "code",
   "execution_count": null,
   "metadata": {},
   "outputs": [],
   "source": [
    "df_iris.boxplot(figsize=(12,8))"
   ]
  },
  {
   "cell_type": "markdown",
   "metadata": {},
   "source": [
    "**Seaborn** (https://seaborn.pydata.org/index.html)\n",
    "\n",
    "Seaborn is a Python data visualization library based on matplotlib. It provides a high-level interface for drawing attractive and informative statistical graphics."
   ]
  },
  {
   "cell_type": "code",
   "execution_count": 22,
   "metadata": {},
   "outputs": [],
   "source": [
    "import seaborn as sns"
   ]
  },
  {
   "cell_type": "code",
   "execution_count": 23,
   "metadata": {},
   "outputs": [
    {
     "data": {
      "text/plain": [
       "Text(0.5, 1.0, 'Boxplot')"
      ]
     },
     "execution_count": 23,
     "metadata": {},
     "output_type": "execute_result"
    },
    {
     "data": {
      "image/png": "[encoded data removed]",
      "text/plain": [
       "<Figure size 864x576 with 1 Axes>"
      ]
     },
     "metadata": {},
     "output_type": "display_data"
    }
   ],
   "source": [
    "plt.figure(figsize=(12,8))\n",
    "sns.boxplot(data=df_iris)\n",
    "plt.title('Boxplot')\n"
   ]
  },
  {
   "cell_type": "markdown",
   "metadata": {},
   "source": [
    "**Dealing with Dates**"
   ]
  },
  {
   "cell_type": "code",
   "execution_count": null,
   "metadata": {},
   "outputs": [],
   "source": [
    "df_oil = pd.read_csv('\\\\datasets\\\\oil_price.csv')\n",
    "df_oil.head()"
   ]
  },
  {
   "cell_type": "code",
   "execution_count": null,
   "metadata": {},
   "outputs": [],
   "source": []
  },
  {
   "cell_type": "markdown",
   "metadata": {},
   "source": [
    "## SQL\n",
    "\n",
    "### Basics of SQL\n",
    "SQL (Structured Quedy Language) is a programming language to define, store, and retrive data from Relational Database Management System (RDBMS).\n",
    "\n",
    "SQL consists of two parts:\n",
    "1. Data Definition Language (DDL) used to define tables, and add/delete data to/from tables.\n",
    "2. Data Manipulation Language (DML) used to query data from the system.\n",
    "\n",
    "RDBMS only stores data as tables. Tables are collections of different types of data like strings, integers, date, etc.  The set of types of data is called *domain* of the table.\n",
    "\n",
    "|city       |  province      | population \n",
    ":----------:|:--------------:|:-------------:|\n",
    "   Riyadh   |    Riyadh      | 4205961 \n",
    "   Dammam   | Eastern        | 768602\n",
    "   Jeddah   |Mecca           | 2867446\n",
    "   Mecca    | Mecca          | 1323624\n",
    "   Khobar   | Eastern        | 165799\n",
    "   Dhahran  | Eastern        | 99540\n",
    "   Medina   | Medina         | 130000\n",
    "\n",
    "\n"
   ]
  },
  {
   "cell_type": "code",
   "execution_count": null,
   "metadata": {},
   "outputs": [],
   "source": [
    "from PIL import Image\n",
    "Image.open(\"sql.PNG\")"
   ]
  },
  {
   "cell_type": "markdown",
   "metadata": {},
   "source": [
    "### Using SQL in Jupyter Notebook\n",
    "The textbook 'A Hand's on Introdcution to Data Sceince' explains in Chapter 7 how to use MySQL with Jupyter Notebook. However Jupyter notebooks come with a SQLite extension that we will use to connect to a test database we will create for this occasion. First install ipython-sql package using the anaconda prompt (conda install -c conda-forge ipython-sql)."
   ]
  },
  {
   "cell_type": "code",
   "execution_count": null,
   "metadata": {},
   "outputs": [],
   "source": [
    "%load_ext sql\n",
    "%sql sqlite:///testdb.sqlite"
   ]
  },
  {
   "cell_type": "code",
   "execution_count": null,
   "metadata": {},
   "outputs": [],
   "source": [
    "%%sql\n",
    "CREATE TABLE SaudiCities (\n",
    "    CITY TEXT PRIMARY KEY,\n",
    "    PROVINCE TEXT,\n",
    "    POPULATION INTEGER\n",
    ");\n",
    "\n",
    "INSERT INTO SaudiCities (CITY,PROVINCE,POPULATION) VALUES ('Riyadh','Riyadh',4205961);"
   ]
  },
  {
   "cell_type": "code",
   "execution_count": null,
   "metadata": {},
   "outputs": [],
   "source": [
    "%%sql\n",
    "SELECT * FROM SaudiCities"
   ]
  },
  {
   "cell_type": "code",
   "execution_count": null,
   "metadata": {},
   "outputs": [],
   "source": [
    "%%sql\n",
    "INSERT INTO SaudiCities (CITY,PROVINCE,POPULATION) VALUES ('Dammam','Eastern',768602);"
   ]
  },
  {
   "cell_type": "code",
   "execution_count": null,
   "metadata": {},
   "outputs": [],
   "source": [
    "%%sql\n",
    "SELECT POPULATION FROM SaudiCities\n",
    "WHERE CITY=='Riyadh'"
   ]
  },
  {
   "cell_type": "code",
   "execution_count": null,
   "metadata": {},
   "outputs": [],
   "source": []
  }
 ],
 "metadata": {
  "kernelspec": {
   "display_name": "Python 3",
   "language": "python",
   "name": "python3"
  },
  "language_info": {
   "codemirror_mode": {
    "name": "ipython",
    "version": 3
   },
   "file_extension": ".py",
   "mimetype": "text/x-python",
   "name": "python",
   "nbconvert_exporter": "python",
   "pygments_lexer": "ipython3",
   "version": "3.8.3"
  }
 },
 "nbformat": 4,
 "nbformat_minor": 2
}
